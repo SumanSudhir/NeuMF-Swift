{
 "cells": [
  {
   "cell_type": "code",
   "execution_count": 1,
   "metadata": {
    "scrolled": true
   },
   "outputs": [
    {
     "name": "stdout",
     "output_type": "stream",
     "text": [
      "Installing packages:\n",
      "\t.package(url: \"https://github.com/tensorflow/swift-models\", .branch(\"master\"))\n",
      "\t\tBatcher\n",
      "\t\tModelSupport\n",
      "\t\tDatasets\n",
      "With SwiftPM flags: ['-c', 'release']\n",
      "Working in: /tmp/tmp807a4l6c/swift-install\n",
      "/home/sudhirsuman/Desktop/swiftPersonal/usr/bin/swift-build: /home/sudhirsuman/anaconda3/lib/libcurl.so.4: no version information available (required by /home/sudhirsuman/Desktop/swiftPersonal/usr/lib/swift/linux/libFoundationNetworking.so)\n",
      "warning: /home/sudhirsuman/Desktop/swiftPersonal/usr/bin/swiftc: /home/sudhirsuman/anaconda3/lib/libuuid.so.1: no version information available (required by /home/sudhirsuman/Desktop/swiftPersonal/usr/bin/swiftc)\n",
      "/home/sudhirsuman/Desktop/swiftPersonal/usr/bin/swift: /home/sudhirsuman/anaconda3/lib/libuuid.so.1: no version information available (required by /home/sudhirsuman/Desktop/swiftPersonal/usr/bin/swift)\n",
      "warning: /home/sudhirsuman/Desktop/swiftPersonal/usr/bin/swiftc: /home/sudhirsuman/anaconda3/lib/libuuid.so.1: no version information available (required by /home/sudhirsuman/Desktop/swiftPersonal/usr/bin/swiftc)\n",
      "/home/sudhirsuman/Desktop/swiftPersonal/usr/bin/swift: /home/sudhirsuman/anaconda3/lib/libuuid.so.1: no version information available (required by /home/sudhirsuman/Desktop/swiftPersonal/usr/bin/swift)\n",
      "warning: /home/sudhirsuman/Desktop/swiftPersonal/usr/bin/swiftc: /home/sudhirsuman/anaconda3/lib/libuuid.so.1: no version information available (required by /home/sudhirsuman/Desktop/swiftPersonal/usr/bin/swiftc)\n",
      "/home/sudhirsuman/Desktop/swiftPersonal/usr/bin/swift: /home/sudhirsuman/anaconda3/lib/libuuid.so.1: no version information available (required by /home/sudhirsuman/Desktop/swiftPersonal/usr/bin/swift)\n",
      "warning: /home/sudhirsuman/Desktop/swiftPersonal/usr/bin/swiftc: /home/sudhirsuman/anaconda3/lib/libuuid.so.1: no version information available (required by /home/sudhirsuman/Desktop/swiftPersonal/usr/bin/swiftc)\n",
      "/home/sudhirsuman/Desktop/swiftPersonal/usr/bin/swift: /home/sudhirsuman/anaconda3/lib/libuuid.so.1: no version information available (required by /home/sudhirsuman/Desktop/swiftPersonal/usr/bin/swift)\n",
      "warning: /home/sudhirsuman/Desktop/swiftPersonal/usr/bin/swiftc: /home/sudhirsuman/anaconda3/lib/libuuid.so.1: no version information available (required by /home/sudhirsuman/Desktop/swiftPersonal/usr/bin/swiftc)\n",
      "/home/sudhirsuman/Desktop/swiftPersonal/usr/bin/swift: /home/sudhirsuman/anaconda3/lib/libuuid.so.1: no version information available (required by /home/sudhirsuman/Desktop/swiftPersonal/usr/bin/swift)\n",
      "/home/sudhirsuman/Desktop/swiftPersonal/usr/bin/swiftc: /home/sudhirsuman/anaconda3/lib/libuuid.so.1: no version information available (required by /home/sudhirsuman/Desktop/swiftPersonal/usr/bin/swiftc)\n",
      "/home/sudhirsuman/Desktop/swiftPersonal/usr/bin/swiftc: /home/sudhirsuman/anaconda3/lib/libuuid.so.1: no version information available (required by /home/sudhirsuman/Desktop/swiftPersonal/usr/bin/swiftc)[1/2] Compiling jupyterInstalledPackages jupyterInstalledPackages.swift\n",
      "/home/sudhirsuman/Desktop/swiftPersonal/usr/bin/swift: /home/sudhirsuman/anaconda3/lib/libuuid.so.1: no version information available (required by /home/sudhirsuman/Desktop/swiftPersonal/usr/bin/swift)\n",
      "Initializing Swift...\n",
      "Installation complete!\n"
     ]
    }
   ],
   "source": [
    "%install-location $cwd/swift-install\n",
    "%install-swiftpm-flags -c release\n",
    "%install '.package(url: \"https://github.com/tensorflow/swift-models\", .branch(\"master\"))' Batcher ModelSupport Datasets"
   ]
  },
  {
   "cell_type": "code",
   "execution_count": 2,
   "metadata": {},
   "outputs": [],
   "source": [
    "import Foundation\n",
    "import ModelSupport\n",
    "import TensorFlow\n",
    "import Datasets"
   ]
  },
  {
   "cell_type": "markdown",
   "metadata": {},
   "source": [
    "# Dataset"
   ]
  },
  {
   "cell_type": "code",
   "execution_count": 3,
   "metadata": {},
   "outputs": [],
   "source": [
    "extension Sequence where Element : Collection {\n",
    "    subscript(column column : Element.Index) -> [ Element.Iterator.Element ] {\n",
    "        return map { $0[ column ] }\n",
    "    }\n",
    "}\n",
    "extension Sequence where Iterator.Element: Hashable {\n",
    "    func unique() -> [Iterator.Element] {\n",
    "        var seen: Set<Iterator.Element> = []\n",
    "        return filter { seen.insert($0).inserted }\n",
    "    }\n",
    "}"
   ]
  },
  {
   "cell_type": "code",
   "execution_count": 178,
   "metadata": {},
   "outputs": [],
   "source": [
    "public struct MovieLens {\n",
    "\n",
    "    public let user_pool: [Float]\n",
    "    public let item_pool: [Float]\n",
    "    public let num_users: Int\n",
    "    public let num_items: Int\n",
    "    public let user_item_rating: [[Int]]\n",
    "    public let rating: [Float]\n",
    "    public let user2id: [Float:Int]\n",
    "    public let id2user: [Int:Float]\n",
    "    public let item2id: [Float:Int]\n",
    "    public let id2item: [Int:Float]\n",
    "    public let neg_sampling: Tensor<Float>\n",
    "\n",
    "    static func downloadMovieLensDatasetIfNotPresent() -> String{\n",
    "        let localURL = URL(fileURLWithPath: FileManager.default.currentDirectoryPath)\n",
    "        let dataFolder = DatasetUtilities.downloadResource(\n",
    "            filename: \"ml-1m\",\n",
    "            fileExtension: \"zip\",\n",
    "            remoteRoot: URL(string: \"http://files.grouplens.org/datasets/movielens/\")!,\n",
    "            localStorageDirectory: localURL.appendingPathComponent(\"data/\", isDirectory: true))\n",
    "\n",
    "        return try! String(contentsOf: dataFolder.appendingPathComponent(\"ratings.dat\"), encoding: .utf8)\n",
    "    }\n",
    "\n",
    "    public init() {\n",
    "        let data  = MovieLens.downloadMovieLensDatasetIfNotPresent()\n",
    "        let df_data: [[Float]] = data.split(separator: \"\\n\").map{ String($0).split(separator: \":\").compactMap{ Float(String($0)) } }\n",
    "        \n",
    "        var df = df_data[0..<30000]\n",
    "        let user_pool = df[column: 0].unique()\n",
    "        let item_pool = df[column: 1].unique()\n",
    "        let rating = df[column: 2]\n",
    "\n",
    "        let user_index = 0...user_pool.count-1\n",
    "        let user2id:[Float:Int] = Dictionary(uniqueKeysWithValues: zip(user_pool,user_index))\n",
    "        let id2user:[Int:Float] = Dictionary(uniqueKeysWithValues: zip(user_index,user_pool))\n",
    "\n",
    "        let item_index = 0...item_pool.count-1\n",
    "        let item2id:[Float:Int] = Dictionary(uniqueKeysWithValues: zip(item_pool,item_index))\n",
    "        let id2item:[Int:Float] = Dictionary(uniqueKeysWithValues: zip(item_index,item_pool))\n",
    "\n",
    "        let preprocess_rating = rating.map({ $0 > 0  ? 1 : $0 })\n",
    "        var neg_sampling = Tensor<Float>(zeros: [user_pool.count,item_pool.count])\n",
    "\n",
    "        for element in df{\n",
    "            let u_index = user2id[element[0]]!\n",
    "            let i_index = item2id[element[1]]!\n",
    "            neg_sampling[u_index][i_index] = Tensor(1.0)\n",
    "        }\n",
    "        \n",
    "        var dataset:[[Int]] = []\n",
    "        for user_id in user_index{\n",
    "            for item_id in item_index{\n",
    "                let rating  = Int(neg_sampling[user_id][item_id].scalarized())\n",
    "                dataset.append([user_id,item_id, rating])\n",
    "            }\n",
    "        }\n",
    "    \n",
    "        self.num_users = user_pool.count\n",
    "        self.num_items = item_pool.count\n",
    "        self.user_pool = user_pool\n",
    "        self.item_pool = item_pool\n",
    "        self.rating = rating\n",
    "        self.user2id = user2id\n",
    "        self.id2user = id2user\n",
    "        self.item2id = item2id\n",
    "        self.id2item = id2item\n",
    "        self.user_item_rating = dataset\n",
    "        self.neg_sampling = neg_sampling\n",
    "    }\n",
    "}"
   ]
  },
  {
   "cell_type": "code",
   "execution_count": null,
   "metadata": {},
   "outputs": [],
   "source": []
  },
  {
   "cell_type": "markdown",
   "metadata": {},
   "source": [
    "# Model"
   ]
  },
  {
   "cell_type": "code",
   "execution_count": 169,
   "metadata": {},
   "outputs": [],
   "source": [
    "public struct NeuMF: Module {\n",
    "\n",
    "    public typealias Scalar = Float\n",
    "\n",
    "    @noDerivative public let num_users: Int\n",
    "    @noDerivative public let num_items: Int\n",
    "    @noDerivative public let mf_dim: Int\n",
    "    @noDerivative public let mf_reg: Scalar\n",
    "    @noDerivative public var mlp_layer_sizes : [Int] = [64,32,16,8]\n",
    "    @noDerivative public var mlp_layer_regs: [Scalar] = [0,0,0,0]\n",
    "\n",
    "    public var mf_user_embed: Embedding<Scalar>\n",
    "    public var mf_item_embed: Embedding<Scalar>\n",
    "    public var mlp_user_embed: Embedding<Scalar>\n",
    "    public var mlp_item_embed: Embedding<Scalar>\n",
    "    public var dense1: Dense<Scalar>\n",
    "    public var dense2: Dense<Scalar>\n",
    "    public var dense3: Dense<Scalar>\n",
    "    public var final_dense: Dense<Scalar>\n",
    "\n",
    "\n",
    "    public init(\n",
    "        num_users: Int,\n",
    "        num_items: Int,\n",
    "        mf_dim: Int,\n",
    "        mf_reg: Float,\n",
    "        mlp_layer_sizes: [Int],\n",
    "        mlp_layer_regs: [Float]\n",
    "    ) {\n",
    "        self.num_users = num_users\n",
    "        self.num_items = num_items\n",
    "        self.mf_dim = mf_dim\n",
    "        self.mf_reg = mf_reg\n",
    "        self.mlp_layer_sizes = mlp_layer_sizes\n",
    "        self.mlp_layer_regs = mlp_layer_regs\n",
    "\n",
    "        // precondition(self.mlp_layer_sizes[0]%2 == 0, \"u dummy, mlp_layer_sizes[0] % 2 != 0\")\n",
    "        // precondition(self.mlp_layer_sizes.count == self.mlp_layer_regs.count, \"u dummy, layer_sizes != layer_regs!\")\n",
    "\n",
    "        //TODO: regularization\n",
    "        self.mf_user_embed = Embedding<Scalar>(vocabularySize: self.num_users, embeddingSize: self.mf_dim)\n",
    "        self.mf_item_embed = Embedding<Scalar>(vocabularySize: self.num_items, embeddingSize: self.mf_dim)\n",
    "        self.mlp_user_embed = Embedding<Scalar>(vocabularySize: self.num_users, embeddingSize: self.mlp_layer_sizes[0]/2)\n",
    "        self.mlp_item_embed = Embedding<Scalar>(vocabularySize: self.num_items, embeddingSize: self.mlp_layer_sizes[0]/2)\n",
    "\n",
    "        //TODO: Extend it for n layers by using for loop\n",
    "        //Currently only for 3 layers\n",
    "        dense1 = Dense(inputSize: self.mlp_layer_sizes[0], outputSize: self.mlp_layer_sizes[1], activation: relu)\n",
    "        dense2 = Dense(inputSize: self.mlp_layer_sizes[1], outputSize: self.mlp_layer_sizes[2], activation: relu)\n",
    "        dense3 = Dense(inputSize: self.mlp_layer_sizes[2], outputSize: self.mlp_layer_sizes[3], activation: relu)\n",
    "        final_dense = Dense(inputSize: (self.mlp_layer_sizes[3] + self.mf_dim), outputSize: 1)\n",
    "    }\n",
    "        @differentiable\n",
    "        public func callAsFunction(_ input: Tensor<Int32>) -> Tensor<Scalar>{\n",
    "            let user_indices  = input[0]\n",
    "            let item_indices = input[1]\n",
    "\n",
    "            let user_embed_mlp = self.mlp_user_embed(user_indices)\n",
    "            let item_embed_mlp = self.mlp_item_embed(item_indices)\n",
    "            let user_embed_mf = self.mf_user_embed(user_indices)\n",
    "            let item_embed_mf = self.mf_item_embed(item_indices)\n",
    "\n",
    "            // let mf_vector = matmul(user_embed_mf,item_embed_mf)\n",
    "            let mf_vector = user_embed_mf*item_embed_mf\n",
    "            var mlp_vector = user_embed_mlp.concatenated(with:item_embed_mlp,alongAxis:-1)\n",
    "            //\n",
    "            // print(mlp_vector.shape)\n",
    "            mlp_vector = mlp_vector.sequenced(through: dense1, dense2, dense3)\n",
    "            let vector = mlp_vector.concatenated(with:mf_vector,alongAxis:-1)\n",
    "\n",
    "            return final_dense(vector)\n",
    "            // return mf_vector\n",
    "        }\n",
    "    // }\n",
    "}\n"
   ]
  },
  {
   "cell_type": "markdown",
   "metadata": {},
   "source": [
    "# Training"
   ]
  },
  {
   "cell_type": "code",
   "execution_count": null,
   "metadata": {},
   "outputs": [],
   "source": [
    "let dataset = MovieLens()"
   ]
  },
  {
   "cell_type": "code",
   "execution_count": 170,
   "metadata": {},
   "outputs": [],
   "source": [
    "let num_users = dataset.num_users\n",
    "let num_items = dataset.num_items"
   ]
  },
  {
   "cell_type": "code",
   "execution_count": 171,
   "metadata": {},
   "outputs": [],
   "source": [
    "var size:[Int] = [64, 32, 16, 8]\n",
    "var regs:[Float] = [0, 0, 0, 0]\n",
    "var model = NeuMF(num_users: num_users, num_items: num_items, mf_dim: 10, mf_reg: 0.0, mlp_layer_sizes: size, mlp_layer_regs: regs)"
   ]
  },
  {
   "cell_type": "code",
   "execution_count": 172,
   "metadata": {},
   "outputs": [
    {
     "name": "stdout",
     "output_type": "stream",
     "text": [
      "Current loss: 0.39105844\n",
      "Current loss: 0.40510172\n",
      "Current loss: 0.3449839\n"
     ]
    }
   ],
   "source": [
    "let optimizer = Adam(for: model, learningRate: 0.001)\n",
    "let train_matrix = dataset.neg_sampling\n",
    "for epoch in 1...3{\n",
    "    var avg_loss: Float = 0.0\n",
    "    for (i,data) in user_item_rating.enumerated(){\n",
    "            let user_id = data[0]\n",
    "            let item_id = data[1]\n",
    "            let rating = Tensor(Float(data[2]))\n",
    "        \n",
    "            let input = Tensor<Int32>(shape: [2, 1], scalars: [Int32(user_id), Int32(item_id)])\n",
    "            let (loss, grad) = valueWithGradient(at: model) { model -> Tensor<Float> in\n",
    "            let logits = model(input)\n",
    "            return sigmoidCrossEntropy(logits: logits, labels:rating)\n",
    "//             return meanSquaredError(predicted: logits, expected: rating)\n",
    "                                                            }\n",
    "            optimizer.update(&model, along: grad)\n",
    "            avg_loss = avg_loss + loss.scalarized()\n",
    "            \n",
    "    }\n",
    "    print(\"Current loss: \\(avg_loss/(Float(num_users*num_items)))\")\n",
    "}"
   ]
  },
  {
   "cell_type": "markdown",
   "metadata": {},
   "source": [
    "# Testing"
   ]
  },
  {
   "cell_type": "code",
   "execution_count": 173,
   "metadata": {},
   "outputs": [
    {
     "data": {
      "text/plain": [
       "[[-0.28371918]]\n"
      ]
     },
     "execution_count": 173,
     "metadata": {},
     "output_type": "execute_result"
    }
   ],
   "source": [
    "var input: Tensor<Int32> = [[4],[1]]\n",
    "model(input)"
   ]
  },
  {
   "cell_type": "code",
   "execution_count": 174,
   "metadata": {},
   "outputs": [],
   "source": [
    "var output:[Float] = []\n",
    "for i in 0...num_items-1{\n",
    "    var input =  Tensor<Int32>(shape: [2, 1],scalars: [3,Int32(i)])\n",
    "    output.append(model(input).scalarized())\n",
    "}"
   ]
  },
  {
   "cell_type": "code",
   "execution_count": 175,
   "metadata": {},
   "outputs": [],
   "source": [
    "let x = exp(Tensor(output))/(exp(Tensor(output)).sum())"
   ]
  },
  {
   "cell_type": "code",
   "execution_count": 176,
   "metadata": {},
   "outputs": [
    {
     "data": {
      "text/plain": [
       "386\n"
      ]
     },
     "execution_count": 176,
     "metadata": {},
     "output_type": "execute_result"
    }
   ],
   "source": [
    "x.argmax()"
   ]
  },
  {
   "cell_type": "code",
   "execution_count": 177,
   "metadata": {},
   "outputs": [
    {
     "data": {
      "text/plain": [
       "371\n"
      ]
     },
     "execution_count": 177,
     "metadata": {},
     "output_type": "execute_result"
    }
   ],
   "source": [
    "x.argmin()"
   ]
  },
  {
   "cell_type": "code",
   "execution_count": null,
   "metadata": {},
   "outputs": [],
   "source": []
  },
  {
   "cell_type": "code",
   "execution_count": null,
   "metadata": {},
   "outputs": [],
   "source": []
  },
  {
   "cell_type": "code",
   "execution_count": null,
   "metadata": {},
   "outputs": [],
   "source": []
  },
  {
   "cell_type": "code",
   "execution_count": null,
   "metadata": {},
   "outputs": [],
   "source": []
  },
  {
   "cell_type": "code",
   "execution_count": null,
   "metadata": {},
   "outputs": [],
   "source": []
  },
  {
   "cell_type": "code",
   "execution_count": null,
   "metadata": {},
   "outputs": [],
   "source": []
  }
 ],
 "metadata": {
  "kernelspec": {
   "display_name": "Swift",
   "language": "swift",
   "name": "swift"
  },
  "language_info": {
   "file_extension": ".swift",
   "mimetype": "text/x-swift",
   "name": "swift",
   "version": ""
  }
 },
 "nbformat": 4,
 "nbformat_minor": 4
}
