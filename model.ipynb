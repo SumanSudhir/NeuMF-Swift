{
  "nbformat": 4,
  "nbformat_minor": 0,
  "metadata": {
    "kernelspec": {
      "display_name": "Swift",
      "language": "swift",
      "name": "swift"
    },
    "language_info": {
      "file_extension": ".swift",
      "mimetype": "text/x-swift",
      "name": "swift",
      "version": ""
    },
    "colab": {
      "name": "NeuMF.ipynb",
      "provenance": [],
      "collapsed_sections": [],
      "toc_visible": true
    },
    "accelerator": "GPU"
  },
  "cells": [
    {
      "cell_type": "code",
      "metadata": {
        "scrolled": true,
        "id": "R991ArJXFw5u",
        "colab_type": "code",
        "outputId": "7ed7f6b0-afad-4189-9f04-a6d47ddc3dcf",
        "colab": {
          "base_uri": "https://localhost:8080/",
          "height": 187
        }
      },
      "source": [
        "%install-location $cwd/swift-install\n",
        "%install-swiftpm-flags -c release\n",
        "%install '.package(url: \"https://github.com/tensorflow/swift-models\", .branch(\"master\"))' Batcher ModelSupport Datasets"
      ],
      "execution_count": 1,
      "outputs": [
        {
          "output_type": "stream",
          "text": [
            "Installing packages:\n",
            "\t.package(url: \"https://github.com/tensorflow/swift-models\", .branch(\"master\"))\n",
            "\t\tBatcher\n",
            "\t\tModelSupport\n",
            "\t\tDatasets\n",
            "With SwiftPM flags: ['-c', 'release']\n",
            "Working in: /tmp/tmp1z04dszu/swift-install\n",
            "[1/2] Compiling jupyterInstalledPackages jupyterInstalledPackages.swift\n",
            "Initializing Swift...\n",
            "Installation complete!\n"
          ],
          "name": "stdout"
        }
      ]
    },
    {
      "cell_type": "code",
      "metadata": {
        "id": "_rqTLejOFw53",
        "colab_type": "code",
        "colab": {}
      },
      "source": [
        "import Foundation\n",
        "import TensorFlow\n",
        "import Datasets"
      ],
      "execution_count": 0,
      "outputs": []
    },
    {
      "cell_type": "markdown",
      "metadata": {
        "id": "Sn30NKEqFw59",
        "colab_type": "text"
      },
      "source": [
        "# Dataset"
      ]
    },
    {
      "cell_type": "code",
      "metadata": {
        "id": "Q015NEQ0Fw5-",
        "colab_type": "code",
        "colab": {}
      },
      "source": [
        "extension Sequence where Element : Collection {\n",
        "    subscript(column column : Element.Index) -> [ Element.Iterator.Element ] {\n",
        "        return map { $0[ column ] }\n",
        "    }\n",
        "}\n",
        "extension Sequence where Iterator.Element: Hashable {\n",
        "    func unique() -> [Iterator.Element] {\n",
        "        var seen: Set<Iterator.Element> = []\n",
        "        return filter { seen.insert($0).inserted }\n",
        "    }\n",
        "}"
      ],
      "execution_count": 0,
      "outputs": []
    },
    {
      "cell_type": "code",
      "metadata": {
        "id": "TsfEn1fCe-2d",
        "colab_type": "code",
        "colab": {}
      },
      "source": [
        "public struct MovieLens {\n",
        "\n",
        "    public let users: [Float]\n",
        "    public let items: [Float]\n",
        "    public let num_users: Int\n",
        "    public let num_items: Int\n",
        "    public let user_item_rating: [[Int]]\n",
        "    public let rating: [Float]\n",
        "    public let user2id: [Float:Int]\n",
        "    public let id2user: [Int:Float]\n",
        "    public let item2id: [Float:Int]\n",
        "    public let id2item: [Int:Float]\n",
        "    public let neg_sampling: Tensor<Float>\n",
        "\n",
        "    static func downloadMovieLensDatasetIfNotPresent() -> String{\n",
        "        let localURL = URL(fileURLWithPath: FileManager.default.currentDirectoryPath)\n",
        "        let dataFolder = DatasetUtilities.downloadResource(\n",
        "            filename: \"ml-100k\",\n",
        "            fileExtension: \"zip\",\n",
        "            remoteRoot: URL(string: \"http://files.grouplens.org/datasets/movielens/\")!,\n",
        "            localStorageDirectory: localURL.appendingPathComponent(\"data/\", isDirectory: true))\n",
        "\n",
        "        return try! String(contentsOf: dataFolder.appendingPathComponent(\"u1.base\"), encoding: .utf8)}\n",
        "        \n",
        "    public init() {\n",
        "        let dataFiles  = MovieLens.downloadMovieLensDatasetIfNotPresent()\n",
        "        let data: [[Float]] = dataFiles.split(separator: \"\\n\").map{ String($0).split(separator: \"\\t\").compactMap{ Float(String($0)) } }\n",
        "\n",
        "        // let data = dataRecords[0...30000]\n",
        "        let users = data[column: 0].unique()\n",
        "        let items = data[column: 1].unique()\n",
        "        let rating = data[column: 2]\n",
        "\n",
        "        let user_index = 0...users.count-1\n",
        "        let user2id:[Float:Int] = Dictionary(uniqueKeysWithValues: zip(users,user_index))\n",
        "        let id2user:[Int:Float] = Dictionary(uniqueKeysWithValues: zip(user_index,users))\n",
        "\n",
        "        let item_index = 0...items.count-1\n",
        "        let item2id:[Float:Int] = Dictionary(uniqueKeysWithValues: zip(items,item_index))\n",
        "        let id2item:[Int:Float] = Dictionary(uniqueKeysWithValues: zip(item_index,items))\n",
        "\n",
        "        var neg_sampling = Tensor<Float>(zeros: [users.count,items.count])\n",
        "        \n",
        "        var dataset:[[Int]] = []\n",
        "\n",
        "        for element in data{\n",
        "            let u_index = user2id[element[0]]!\n",
        "            let i_index = item2id[element[1]]!\n",
        "            let rating = element[2]\n",
        "            if (rating > 0){\n",
        "              neg_sampling[u_index][i_index] = Tensor(1.0)\n",
        "            }\n",
        "        }\n",
        "        for element in data{\n",
        "            let u_index = user2id[element[0]]!\n",
        "            let i_index = item2id[element[1]]!\n",
        "            // let rating = element[2]\n",
        "            dataset.append([u_index,i_index, 1])\n",
        "            for i in 0...3{\n",
        "              var i_index = Int.random(in:item_index)\n",
        "              while(neg_sampling[u_index][i_index].scalarized() == 1.0){\n",
        "                i_index = Int.random(in:item_index)\n",
        "              }\n",
        "              dataset.append([u_index,i_index, 0])\n",
        "            }\n",
        "        }\n",
        "\n",
        "        \n",
        "        self.num_users = users.count\n",
        "        self.num_items = items.count\n",
        "        self.users = users\n",
        "        self.items = items\n",
        "        self.rating = rating\n",
        "        self.user2id = user2id\n",
        "        self.id2user = id2user\n",
        "        self.item2id = item2id\n",
        "        self.id2item = id2item\n",
        "        self.user_item_rating = dataset\n",
        "        self.neg_sampling = neg_sampling\n",
        "    }\n",
        "}"
      ],
      "execution_count": 0,
      "outputs": []
    },
    {
      "cell_type": "markdown",
      "metadata": {
        "id": "o6eeeRiSFw6P",
        "colab_type": "text"
      },
      "source": [
        "# Model"
      ]
    },
    {
      "cell_type": "code",
      "metadata": {
        "id": "V2EX4Q80Fw6R",
        "colab_type": "code",
        "colab": {}
      },
      "source": [
        "public struct NeuMF: Module {\n",
        "\n",
        "    public typealias Scalar = Float\n",
        "\n",
        "    @noDerivative public let num_users: Int\n",
        "    @noDerivative public let num_items: Int\n",
        "    @noDerivative public let mf_dim: Int\n",
        "    @noDerivative public let mf_reg: Scalar\n",
        "    @noDerivative public var mlp_layer_sizes : [Int] = [64,32,16,8]\n",
        "    @noDerivative public var mlp_layer_regs: [Scalar] = [0,0,0,0]\n",
        "\n",
        "    public var mf_user_embed: Embedding<Scalar>\n",
        "    public var mf_item_embed: Embedding<Scalar>\n",
        "    public var mlp_user_embed: Embedding<Scalar>\n",
        "    public var mlp_item_embed: Embedding<Scalar>\n",
        "    public var dense1: Dense<Scalar>\n",
        "    public var dense2: Dense<Scalar>\n",
        "    public var dense3: Dense<Scalar>\n",
        "    public var final_dense: Dense<Scalar>\n",
        "\n",
        "\n",
        "    public init(\n",
        "        num_users: Int,\n",
        "        num_items: Int,\n",
        "        mf_dim: Int,\n",
        "        mf_reg: Float,\n",
        "        mlp_layer_sizes: [Int],\n",
        "        mlp_layer_regs: [Float]\n",
        "    ) {\n",
        "        self.num_users = num_users\n",
        "        self.num_items = num_items\n",
        "        self.mf_dim = mf_dim\n",
        "        self.mf_reg = mf_reg\n",
        "        self.mlp_layer_sizes = mlp_layer_sizes\n",
        "        self.mlp_layer_regs = mlp_layer_regs\n",
        "\n",
        "        // precondition(self.mlp_layer_sizes[0]%2 == 0, \"u dummy, mlp_layer_sizes[0] % 2 != 0\")\n",
        "        // precondition(self.mlp_layer_sizes.count == self.mlp_layer_regs.count, \"u dummy, layer_sizes != layer_regs!\")\n",
        "\n",
        "        //TODO: regularization\n",
        "        self.mf_user_embed = Embedding<Scalar>(vocabularySize: self.num_users, embeddingSize: self.mf_dim)\n",
        "        self.mf_item_embed = Embedding<Scalar>(vocabularySize: self.num_items, embeddingSize: self.mf_dim)\n",
        "        self.mlp_user_embed = Embedding<Scalar>(vocabularySize: self.num_users, embeddingSize: self.mlp_layer_sizes[0]/2)\n",
        "        self.mlp_item_embed = Embedding<Scalar>(vocabularySize: self.num_items, embeddingSize: self.mlp_layer_sizes[0]/2)\n",
        "\n",
        "        //TODO: Extend it for n layers by using for loop\n",
        "        //Currently only for 3 layers\n",
        "        dense1 = Dense(inputSize: self.mlp_layer_sizes[0], outputSize: self.mlp_layer_sizes[1], activation: relu)\n",
        "        dense2 = Dense(inputSize: self.mlp_layer_sizes[1], outputSize: self.mlp_layer_sizes[2], activation: relu)\n",
        "        dense3 = Dense(inputSize: self.mlp_layer_sizes[2], outputSize: self.mlp_layer_sizes[3], activation: relu)\n",
        "        final_dense = Dense(inputSize: (self.mlp_layer_sizes[3] + self.mf_dim), outputSize: 1)\n",
        "    }\n",
        "        @differentiable\n",
        "        public func callAsFunction(_ input: Tensor<Int32>) -> Tensor<Scalar>{\n",
        "            let user_indices  = input[0]\n",
        "            let item_indices = input[1]\n",
        "\n",
        "            let user_embed_mlp = self.mlp_user_embed(user_indices)\n",
        "            let item_embed_mlp = self.mlp_item_embed(item_indices)\n",
        "            let user_embed_mf = self.mf_user_embed(user_indices)\n",
        "            let item_embed_mf = self.mf_item_embed(item_indices)\n",
        "\n",
        "            // let mf_vector = matmul(user_embed_mf,item_embed_mf)\n",
        "            let mf_vector = user_embed_mf*item_embed_mf\n",
        "            var mlp_vector = user_embed_mlp.concatenated(with:item_embed_mlp,alongAxis:-1)\n",
        "            //\n",
        "            // print(mlp_vector.shape)\n",
        "            mlp_vector = mlp_vector.sequenced(through: dense1, dense2, dense3)\n",
        "            let vector = mlp_vector.concatenated(with:mf_vector,alongAxis:-1)\n",
        "\n",
        "            return final_dense(vector)\n",
        "            // return mf_vector\n",
        "        }\n",
        "    // }\n",
        "}\n"
      ],
      "execution_count": 0,
      "outputs": []
    },
    {
      "cell_type": "markdown",
      "metadata": {
        "id": "3KP3-0PAFw6X",
        "colab_type": "text"
      },
      "source": [
        "# Training"
      ]
    },
    {
      "cell_type": "code",
      "metadata": {
        "id": "_xMzkm1YFw6Y",
        "colab_type": "code",
        "outputId": "ead2e511-65eb-410b-9eb2-ddcc079e180e",
        "colab": {
          "base_uri": "https://localhost:8080/",
          "height": 527
        }
      },
      "source": [
        "let dataset = MovieLens()"
      ],
      "execution_count": 6,
      "outputs": [
        {
          "output_type": "stream",
          "text": [
            "Loading resource: ml-100k\r\n",
            "File does not exist locally at expected path: /content/data/ml-100k and must be fetched\r\n",
            "Fetching URL: http://files.grouplens.org/datasets/movielens/ml-100k.zip...\n",
            "Archive saved to: /content/data\n",
            "Extracting archive...\n",
            "Archive:  /content/data/ml-100k.zip\n",
            "   creating: /content/data/ml-100k/\n",
            "  inflating: /content/data/ml-100k/allbut.pl  \n",
            "  inflating: /content/data/ml-100k/mku.sh  \n",
            "  inflating: /content/data/ml-100k/README  \n",
            "  inflating: /content/data/ml-100k/u.data  \n",
            "  inflating: /content/data/ml-100k/u.genre  \n",
            "  inflating: /content/data/ml-100k/u.info  \n",
            "  inflating: /content/data/ml-100k/u.item  \n",
            "  inflating: /content/data/ml-100k/u.occupation  \n",
            "  inflating: /content/data/ml-100k/u.user  \n",
            "  inflating: /content/data/ml-100k/u1.base  \n",
            "  inflating: /content/data/ml-100k/u1.test  \n",
            "  inflating: /content/data/ml-100k/u2.base  \n",
            "  inflating: /content/data/ml-100k/u2.test  \n",
            "  inflating: /content/data/ml-100k/u3.base  \n",
            "  inflating: /content/data/ml-100k/u3.test  \n",
            "  inflating: /content/data/ml-100k/u4.base  \n",
            "  inflating: /content/data/ml-100k/u4.test  \n",
            "  inflating: /content/data/ml-100k/u5.base  \n",
            "  inflating: /content/data/ml-100k/u5.test  \n",
            "  inflating: /content/data/ml-100k/ua.base  \n",
            "  inflating: /content/data/ml-100k/ua.test  \n",
            "  inflating: /content/data/ml-100k/ub.base  \n",
            "  inflating: /content/data/ml-100k/ub.test  \n"
          ],
          "name": "stdout"
        }
      ]
    },
    {
      "cell_type": "code",
      "metadata": {
        "id": "inKsR0owFw6d",
        "colab_type": "code",
        "colab": {}
      },
      "source": [
        "let num_users = dataset.num_users\n",
        "let num_items = dataset.num_items"
      ],
      "execution_count": 0,
      "outputs": []
    },
    {
      "cell_type": "code",
      "metadata": {
        "id": "kEwt5Ea207_a",
        "colab_type": "code",
        "outputId": "2524b1e4-4dc6-4dfe-bb4c-41ea23147f8e",
        "colab": {
          "base_uri": "https://localhost:8080/",
          "height": 34
        }
      },
      "source": [
        "var x = dataset.user_item_rating.shuffled()\n",
        "x.count"
      ],
      "execution_count": 8,
      "outputs": [
        {
          "output_type": "execute_result",
          "data": {
            "text/plain": [
              "400000\n"
            ]
          },
          "metadata": {
            "tags": []
          },
          "execution_count": 8
        }
      ]
    },
    {
      "cell_type": "code",
      "metadata": {
        "id": "MB-1IAWAFw6o",
        "colab_type": "code",
        "colab": {}
      },
      "source": [
        "var size:[Int] = [64, 32, 16, 8]\n",
        "var regs:[Float] = [0, 0, 0, 0]\n",
        "var model = NeuMF(num_users: num_users, num_items: num_items, mf_dim: 8, mf_reg: 0.0, mlp_layer_sizes: size, mlp_layer_regs: regs)"
      ],
      "execution_count": 0,
      "outputs": []
    },
    {
      "cell_type": "code",
      "metadata": {
        "id": "covkelRMFw6t",
        "colab_type": "code",
        "outputId": "73ff4cb5-9421-4176-a0d0-cf9e14e715e3",
        "colab": {
          "base_uri": "https://localhost:8080/",
          "height": 95
        }
      },
      "source": [
        "let optimizer = Adam(for: model, learningRate: 0.001)\n",
        "for epoch in 1...3{\n",
        "    var avg_loss: Float = 0.0\n",
        "    Context.local.learningPhase = .training\n",
        "    for (i,data) in dataset.user_item_rating.shuffled().enumerated(){\n",
        "            let user_id = data[0]\n",
        "            let item_id = data[1]\n",
        "            let rating = Tensor(Float(data[2]))\n",
        "\n",
        "            let input = Tensor<Int32>(shape: [2, 1], scalars: [Int32(user_id), Int32(item_id)])\n",
        "            let (loss, grad) = valueWithGradient(at: model) { model -> Tensor<Float> in\n",
        "            let logits = model(input)\n",
        "            return sigmoidCrossEntropy(logits: logits, labels:rating)\n",
        "//             return meanSquaredError(predicted: logits, expected: rating)\n",
        "                                                        }\n",
        "            optimizer.update(&model, along: grad)\n",
        "            avg_loss = avg_loss + loss.scalarized()\n",
        "            if(i+1)%20000 == 0{\n",
        "                print(avg_loss/Float(i+1))\n",
        "            }\n",
        "    }\n",
        "    print(\"Epoch: \\(epoch)\", \"Current loss: \\(avg_loss/(Float(x.count)))\")\n",
        "}"
      ],
      "execution_count": 22,
      "outputs": [
        {
          "output_type": "error",
          "ename": "",
          "evalue": "ignored",
          "traceback": [
            "error: Execution was interrupted, reason: signal SIGSTOP.\nThe process has been left at the point where it was interrupted, use \"thread return -x\" to return to the state before expression evaluation.\n"
          ]
        }
      ]
    },
    {
      "cell_type": "code",
      "metadata": {
        "id": "DRV6wiUOMYZ4",
        "colab_type": "code",
        "colab": {}
      },
      "source": [
        ""
      ],
      "execution_count": 0,
      "outputs": []
    },
    {
      "cell_type": "markdown",
      "metadata": {
        "id": "36LvJaN0Fw6z",
        "colab_type": "text"
      },
      "source": [
        "# Testing"
      ]
    },
    {
      "cell_type": "code",
      "metadata": {
        "id": "jBkfcprpFw61",
        "colab_type": "code",
        "colab": {}
      },
      "source": [
        ""
      ],
      "execution_count": 0,
      "outputs": []
    },
    {
      "cell_type": "code",
      "metadata": {
        "id": "mZdkSWa3Fw67",
        "colab_type": "code",
        "colab": {
          "base_uri": "https://localhost:8080/",
          "height": 234
        },
        "outputId": "b1d793b2-5c9c-4a7f-9c01-abc961fd5677"
      },
      "source": [
        "var item:[Int] = []\n",
        "var output:[Float] = []\n",
        "for i in 0...num_items-1{\n",
        "  if dataset.neg_sampling[0][i].scalarized() == 0{\n",
        "    var input =  Tensor<Int32>(shape: [2, 1],scalars: [1,Int32(i)])\n",
        "    output.append(model(input).scalarized())\n",
        "    item.append(i)\n",
        "  }\n",
        "}"
      ],
      "execution_count": 18,
      "outputs": [
        {
          "output_type": "stream",
          "text": [
            "Simultaneous accesses to 0x7f1720ac5b30, but modification requires exclusive access.\r\n",
            "Previous access (a modification) started at  (0x7f1720abe83f).\r\n",
            "Current access (a read) started at:\r\n",
            "0    libswiftCore.so                    0x00007f171f10efa0 swift_beginAccess + 479\r\n",
            "2    repl_swift                         0x0000000000400470 <unavailable> + 1136\r\n",
            "Fatal access conflict detected.\r\n"
          ],
          "name": "stdout"
        },
        {
          "output_type": "error",
          "ename": "",
          "evalue": "ignored",
          "traceback": [
            "Current stack trace:",
            "\tframe #4: 0x00007f16c17c60e9 $__lldb_expr114`main [inlined] generic specialization <Swift.Int> of static (extension in Swift):Swift.ClosedRange< where A: Swift.Strideable, A.Stride: Swift.SignedInteger>.Index.== infix((extension in Swift):Swift.ClosedRange<A>< where A: Swift.Strideable, A.Stride: Swift.SignedInteger>.Index, (extension in Swift):Swift.ClosedRange<A>< where A: Swift.Strideable, A.Stride: Swift.SignedInteger>.Index) -> Swift.Bool at <Cell 18>:0:11",
            "\tframe #7: 0x00007f16c17c60b6 $__lldb_expr114`main at <Cell 18>:3"
          ]
        }
      ]
    },
    {
      "cell_type": "code",
      "metadata": {
        "id": "AzJRNWQrNGKi",
        "colab_type": "code",
        "colab": {}
      },
      "source": [
        ""
      ],
      "execution_count": 0,
      "outputs": []
    },
    {
      "cell_type": "code",
      "metadata": {
        "id": "6n_W0IFtFw7A",
        "colab_type": "code",
        "colab": {}
      },
      "source": [
        "let x = exp(Tensor(output))/(exp(Tensor(output)).sum())"
      ],
      "execution_count": 0,
      "outputs": []
    },
    {
      "cell_type": "code",
      "metadata": {
        "id": "3iLDA0vgFw7G",
        "colab_type": "code",
        "outputId": "c01b7d5a-80c8-4931-9581-92c4851315d3",
        "colab": {
          "base_uri": "https://localhost:8080/",
          "height": 34
        }
      },
      "source": [
        "x.argmax()"
      ],
      "execution_count": 0,
      "outputs": [
        {
          "output_type": "execute_result",
          "data": {
            "text/plain": [
              "17\n"
            ]
          },
          "metadata": {
            "tags": []
          },
          "execution_count": 60
        }
      ]
    },
    {
      "cell_type": "code",
      "metadata": {
        "id": "-jYtdgbePrwh",
        "colab_type": "code",
        "outputId": "348b6779-e452-45fb-f495-090eefedf043",
        "colab": {
          "base_uri": "https://localhost:8080/",
          "height": 197
        }
      },
      "source": [
        "x[item2id[149.0]]"
      ],
      "execution_count": 0,
      "outputs": [
        {
          "output_type": "error",
          "ename": "",
          "evalue": "ignored",
          "traceback": [
            "error: <Cell 1>:1:1: error: use of unresolved identifier 'x'\nx[item2id[149.0]]\n^\n\nerror: <Cell 1>:1:3: error: use of unresolved identifier 'item2id'\nx[item2id[149.0]]\n  ^~~~~~~\n\n"
          ]
        }
      ]
    },
    {
      "cell_type": "code",
      "metadata": {
        "id": "pzJsibwbFw7L",
        "colab_type": "code",
        "outputId": "27e67e70-3348-42f8-9988-5ad749479b4a",
        "colab": {
          "base_uri": "https://localhost:8080/",
          "height": 34
        }
      },
      "source": [
        "x.argmin()"
      ],
      "execution_count": 0,
      "outputs": [
        {
          "output_type": "execute_result",
          "data": {
            "text/plain": [
              "1341\n"
            ]
          },
          "metadata": {
            "tags": []
          },
          "execution_count": 61
        }
      ]
    },
    {
      "cell_type": "code",
      "metadata": {
        "id": "gzGs4kXVNzJZ",
        "colab_type": "code",
        "outputId": "c1b02177-55b1-41f5-e886-f2485ffb248a",
        "colab": {
          "base_uri": "https://localhost:8080/",
          "height": 34
        }
      },
      "source": [
        "item[70]"
      ],
      "execution_count": 0,
      "outputs": [
        {
          "output_type": "execute_result",
          "data": {
            "text/plain": [
              "205\n"
            ]
          },
          "metadata": {
            "tags": []
          },
          "execution_count": 62
        }
      ]
    },
    {
      "cell_type": "code",
      "metadata": {
        "id": "TyXmSgmJOrsK",
        "colab_type": "code",
        "outputId": "e92ddc20-362b-4edc-de53-a0d2564ceefd",
        "colab": {
          "base_uri": "https://localhost:8080/",
          "height": 34
        }
      },
      "source": [
        "dataset.id2item[item[17]]!"
      ],
      "execution_count": 0,
      "outputs": [
        {
          "output_type": "execute_result",
          "data": {
            "text/plain": [
              "286.0\n"
            ]
          },
          "metadata": {
            "tags": []
          },
          "execution_count": 66
        }
      ]
    },
    {
      "cell_type": "markdown",
      "metadata": {
        "id": "AjN0jg_xFw7Q",
        "colab_type": "text"
      },
      "source": [
        "# Testing on Dummy Data"
      ]
    },
    {
      "cell_type": "code",
      "metadata": {
        "id": "9JxDSde2Fw7R",
        "colab_type": "code",
        "colab": {}
      },
      "source": [
        "let num_users = 4\n",
        "let num_items = 5"
      ],
      "execution_count": 0,
      "outputs": []
    },
    {
      "cell_type": "code",
      "metadata": {
        "id": "UzsxHd9vFw7W",
        "colab_type": "code",
        "colab": {}
      },
      "source": [
        "var size:[Int] = [64, 32, 16, 8]\n",
        "var regs:[Float] = [0, 0, 0, 0]\n",
        "var model = NeuMF(num_users: num_users, num_items: num_items, mf_dim: 8, mf_reg: 0.0, mlp_layer_sizes: size, mlp_layer_regs: regs)"
      ],
      "execution_count": 0,
      "outputs": []
    },
    {
      "cell_type": "code",
      "metadata": {
        "id": "Cde9ASZzFw7a",
        "colab_type": "code",
        "colab": {}
      },
      "source": [
        "var data:[[Int]] = [[0,0,1], [0,1,1], [0,2,1], [0,3,0], [0,4,1],\n",
        "                    [1,0,0], [1,1,1], [1,2,1], [1,3,0], [1,4,0],\n",
        "                    [2,0,0], [2,1,1], [2,2,1], [2,3,1], [2,4,0],\n",
        "                    [3,0,1], [3,1,0], [3,2,1], [3,3,1], [3,4,1]]"
      ],
      "execution_count": 0,
      "outputs": []
    },
    {
      "cell_type": "code",
      "metadata": {
        "id": "frtwaREn10jf",
        "colab_type": "code",
        "colab": {}
      },
      "source": [
        "var data:[[Int]] = [[0,5,1], [2,6,1], [1,7,1], [3,8,0], [4,9,1],\n",
        "                    [3,14,1], [3,13,0], [3,12,1], [3,11,1], [3,10,1]]"
      ],
      "execution_count": 0,
      "outputs": []
    },
    {
      "cell_type": "code",
      "metadata": {
        "id": "XuYCYFUf1pJB",
        "colab_type": "code",
        "colab": {}
      },
      "source": [
        "data.shuffle()"
      ],
      "execution_count": 0,
      "outputs": []
    },
    {
      "cell_type": "code",
      "metadata": {
        "id": "mHk2DQT9Fw7j",
        "colab_type": "code",
        "outputId": "85f52da8-7566-4ba9-be8d-43cb8beb7515",
        "colab": {}
      },
      "source": [
        "let optimizer = Adam(for: model, learningRate: 0.001)\n",
        "for epoch in 1...50{\n",
        "    var avg_loss: Float = 0.0\n",
        "    for (i,data) in data.enumerated(){\n",
        "            let user_id = data[0]\n",
        "            let item_id = data[1]\n",
        "            let rating = Tensor(Float(data[2]))\n",
        "\n",
        "            let input = Tensor<Int32>(shape: [2, 1], scalars: [Int32(user_id), Int32(item_id)])\n",
        "            let (loss, grad) = valueWithGradient(at: model) { model -> Tensor<Float> in\n",
        "            let logits = model(input)\n",
        "            return sigmoidCrossEntropy(logits: logits, labels:rating)\n",
        "//             return meanSquaredError(predicted: logits, expected: rating)\n",
        "                                                        }\n",
        "            optimizer.update(&model, along: grad)\n",
        "            avg_loss = avg_loss + loss.scalarized()\n",
        "    }\n",
        "    print(\"Epoch: \\(epoch)\", \"Current loss: \\(avg_loss/(Float(num_users*num_items)))\")\n",
        "}\n"
      ],
      "execution_count": 0,
      "outputs": [
        {
          "output_type": "stream",
          "text": [
            "Epoch: 1 Current loss: 0.6526973\n",
            "Epoch: 2 Current loss: 0.61954325\n",
            "Epoch: 3 Current loss: 0.6023137\n",
            "Epoch: 4 Current loss: 0.5998179\n",
            "Epoch: 5 Current loss: 0.5859607\n",
            "Epoch: 6 Current loss: 0.5725097\n",
            "Epoch: 7 Current loss: 0.5623292\n",
            "Epoch: 8 Current loss: 0.55179363\n",
            "Epoch: 9 Current loss: 0.5393158\n",
            "Epoch: 10 Current loss: 0.5358568\n",
            "Epoch: 11 Current loss: 0.52070105\n",
            "Epoch: 12 Current loss: 0.50869924\n",
            "Epoch: 13 Current loss: 0.49550062\n",
            "Epoch: 14 Current loss: 0.4862957\n",
            "Epoch: 15 Current loss: 0.47034225\n",
            "Epoch: 16 Current loss: 0.47229204\n",
            "Epoch: 17 Current loss: 0.45568734\n",
            "Epoch: 18 Current loss: 0.43813866\n",
            "Epoch: 19 Current loss: 0.4247455\n",
            "Epoch: 20 Current loss: 0.41159487\n",
            "Epoch: 21 Current loss: 0.3978243\n",
            "Epoch: 22 Current loss: 0.3862557\n",
            "Epoch: 23 Current loss: 0.37105322\n",
            "Epoch: 24 Current loss: 0.36510608\n",
            "Epoch: 25 Current loss: 0.3532523\n",
            "Epoch: 26 Current loss: 0.34468272\n",
            "Epoch: 27 Current loss: 0.3255597\n",
            "Epoch: 28 Current loss: 0.31359676\n",
            "Epoch: 29 Current loss: 0.30134034\n",
            "Epoch: 30 Current loss: 0.29020563\n",
            "Epoch: 31 Current loss: 0.27824888\n",
            "Epoch: 32 Current loss: 0.26804417\n",
            "Epoch: 33 Current loss: 0.25834724\n",
            "Epoch: 34 Current loss: 0.24888988\n",
            "Epoch: 35 Current loss: 0.24122047\n",
            "Epoch: 36 Current loss: 0.22708046\n",
            "Epoch: 37 Current loss: 0.22980852\n",
            "Epoch: 38 Current loss: 0.21316473\n",
            "Epoch: 39 Current loss: 0.2039834\n",
            "Epoch: 40 Current loss: 0.19692416\n",
            "Epoch: 41 Current loss: 0.19028392\n",
            "Epoch: 42 Current loss: 0.18655434\n",
            "Epoch: 43 Current loss: 0.18292582\n",
            "Epoch: 44 Current loss: 0.17540172\n",
            "Epoch: 45 Current loss: 0.16817588\n",
            "Epoch: 46 Current loss: 0.16221645\n",
            "Epoch: 47 Current loss: 0.15790433\n",
            "Epoch: 48 Current loss: 0.15425871\n",
            "Epoch: 49 Current loss: 0.15047914\n",
            "Epoch: 50 Current loss: 0.14593312\n"
          ],
          "name": "stdout"
        }
      ]
    },
    {
      "cell_type": "code",
      "metadata": {
        "id": "czyncFWhFw7o",
        "colab_type": "code",
        "colab": {}
      },
      "source": [
        "var output:[Float] = []\n",
        "for i in 0...num_items-1{\n",
        "    var input =  Tensor<Int32>(shape: [2, 1],scalars: [2,Int32(i)])\n",
        "    output.append(model(input).scalarized())\n",
        "}"
      ],
      "execution_count": 0,
      "outputs": []
    },
    {
      "cell_type": "code",
      "metadata": {
        "id": "2sgf3LZvFw7s",
        "colab_type": "code",
        "colab": {}
      },
      "source": [
        "let x = exp(Tensor(output))/(exp(Tensor(output)).sum())"
      ],
      "execution_count": 0,
      "outputs": []
    },
    {
      "cell_type": "code",
      "metadata": {
        "id": "6z3ZujpBFw7y",
        "colab_type": "code",
        "outputId": "ec13580e-c154-4250-c05e-ac3ab5a40123",
        "colab": {}
      },
      "source": [
        "x.argmax()"
      ],
      "execution_count": 0,
      "outputs": [
        {
          "output_type": "execute_result",
          "data": {
            "text/plain": [
              "2\n"
            ]
          },
          "metadata": {
            "tags": []
          },
          "execution_count": 81
        }
      ]
    },
    {
      "cell_type": "code",
      "metadata": {
        "id": "XAIQ-jzhFw73",
        "colab_type": "code",
        "outputId": "b07093f8-4c05-4b4b-f6bc-7f74891942b1",
        "colab": {}
      },
      "source": [
        "x"
      ],
      "execution_count": 0,
      "outputs": [
        {
          "output_type": "execute_result",
          "data": {
            "text/plain": [
              "[8.960172e-06, 0.0031344146,   0.99529314, 0.0015539423, 9.463736e-06]\n"
            ]
          },
          "metadata": {
            "tags": []
          },
          "execution_count": 82
        }
      ]
    },
    {
      "cell_type": "code",
      "metadata": {
        "id": "IklV3tgMFw78",
        "colab_type": "code",
        "colab": {}
      },
      "source": [
        ""
      ],
      "execution_count": 0,
      "outputs": []
    },
    {
      "cell_type": "code",
      "metadata": {
        "id": "19o3hVsmDjrA",
        "colab_type": "code",
        "colab": {}
      },
      "source": [
        ""
      ],
      "execution_count": 0,
      "outputs": []
    },
    {
      "cell_type": "code",
      "metadata": {
        "id": "6YcrcE3wDjpZ",
        "colab_type": "code",
        "colab": {}
      },
      "source": [
        ""
      ],
      "execution_count": 0,
      "outputs": []
    },
    {
      "cell_type": "code",
      "metadata": {
        "id": "AJ5xDfgeDjlJ",
        "colab_type": "code",
        "colab": {}
      },
      "source": [
        ""
      ],
      "execution_count": 0,
      "outputs": []
    },
    {
      "cell_type": "code",
      "metadata": {
        "id": "wdAfJ8W4DjhW",
        "colab_type": "code",
        "colab": {}
      },
      "source": [
        "var str = \"Hello, playground\""
      ],
      "execution_count": 0,
      "outputs": []
    },
    {
      "cell_type": "code",
      "metadata": {
        "id": "ulhjBMOZDkbY",
        "colab_type": "code",
        "colab": {}
      },
      "source": [
        "let index = str.index(str.startIndex, offsetBy: 4)"
      ],
      "execution_count": 0,
      "outputs": []
    },
    {
      "cell_type": "code",
      "metadata": {
        "id": "Vqi3rbOSDvPQ",
        "colab_type": "code",
        "colab": {}
      },
      "source": [
        "let mySubstring = str[..<index]"
      ],
      "execution_count": 0,
      "outputs": []
    },
    {
      "cell_type": "code",
      "metadata": {
        "id": "ziihih6ND0lM",
        "colab_type": "code",
        "colab": {
          "base_uri": "https://localhost:8080/",
          "height": 34
        },
        "outputId": "9a77f2a5-43e8-45fc-eb09-be6d60119862"
      },
      "source": [
        "mySubstring"
      ],
      "execution_count": 12,
      "outputs": [
        {
          "output_type": "execute_result",
          "data": {
            "text/plain": [
              "\"Hell\"\n"
            ]
          },
          "metadata": {
            "tags": []
          },
          "execution_count": 12
        }
      ]
    },
    {
      "cell_type": "code",
      "metadata": {
        "id": "vYvjs-END2Uh",
        "colab_type": "code",
        "colab": {}
      },
      "source": [
        "// let index = rows[rows.count - 1].index(rows[rows.count - 1].endIndex, offsetBy: -2)\n",
        "// rows[rows.count - 1] = String(rows[rows.count - 1][index...])"
      ],
      "execution_count": 0,
      "outputs": []
    }
  ]
}
