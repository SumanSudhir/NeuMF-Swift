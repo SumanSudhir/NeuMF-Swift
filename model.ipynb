{
  "nbformat": 4,
  "nbformat_minor": 0,
  "metadata": {
    "kernelspec": {
      "display_name": "Swift",
      "language": "swift",
      "name": "swift"
    },
    "language_info": {
      "file_extension": ".swift",
      "mimetype": "text/x-swift",
      "name": "swift",
      "version": ""
    },
    "colab": {
      "name": "NeuMF.ipynb",
      "provenance": [],
      "collapsed_sections": [],
      "toc_visible": true
    },
    "accelerator": "GPU"
  },
  "cells": [
    {
      "cell_type": "code",
      "metadata": {
        "scrolled": true,
        "id": "R991ArJXFw5u",
        "colab_type": "code",
        "outputId": "62626124-aa40-4583-e75f-08c2c5dc31f9",
        "colab": {
          "base_uri": "https://localhost:8080/",
          "height": 170
        }
      },
      "source": [
        "%install-location $cwd/swift-install\n",
        "%install-swiftpm-flags -c release\n",
        "%install '.package(url: \"https://github.com/tensorflow/swift-models\", .branch(\"master\"))' Batcher ModelSupport Datasets"
      ],
      "execution_count": 1,
      "outputs": [
        {
          "output_type": "stream",
          "text": [
            "Installing packages:\n",
            "\t.package(url: \"https://github.com/tensorflow/swift-models\", .branch(\"master\"))\n",
            "\t\tBatcher\n",
            "\t\tModelSupport\n",
            "\t\tDatasets\n",
            "With SwiftPM flags: ['-c', 'release']\n",
            "Working in: /tmp/tmpg98c6xze/swift-install\n",
            "[1/2] Compiling jupyterInstalledPackages jupyterInstalledPackages.swift\n",
            "Initializing Swift...\n"
          ],
          "name": "stdout"
        }
      ]
    },
    {
      "cell_type": "code",
      "metadata": {
        "id": "_rqTLejOFw53",
        "colab_type": "code",
        "colab": {}
      },
      "source": [
        "import Foundation\n",
        "import TensorFlow\n",
        "import Datasets"
      ],
      "execution_count": 0,
      "outputs": []
    },
    {
      "cell_type": "markdown",
      "metadata": {
        "id": "Sn30NKEqFw59",
        "colab_type": "text"
      },
      "source": [
        "# Dataset"
      ]
    },
    {
      "cell_type": "code",
      "metadata": {
        "id": "Q015NEQ0Fw5-",
        "colab_type": "code",
        "colab": {}
      },
      "source": [
        "extension Sequence where Element : Collection {\n",
        "    subscript(column column : Element.Index) -> [ Element.Iterator.Element ] {\n",
        "        return map { $0[ column ] }\n",
        "    }\n",
        "}\n",
        "extension Sequence where Iterator.Element: Hashable {\n",
        "    func unique() -> [Iterator.Element] {\n",
        "        var seen: Set<Iterator.Element> = []\n",
        "        return filter { seen.insert($0).inserted }\n",
        "    }\n",
        "}"
      ],
      "execution_count": 0,
      "outputs": []
    },
    {
      "cell_type": "code",
      "metadata": {
        "id": "4_rGnCLFtnQJ",
        "colab_type": "code",
        "outputId": "ebd91f3d-4f81-439a-8103-001580b2cdf2",
        "colab": {
          "base_uri": "https://localhost:8080/",
          "height": 54
        }
      },
      "source": [
        "print(_ExecutionContext.global.deviceNames)"
      ],
      "execution_count": 4,
      "outputs": [
        {
          "output_type": "stream",
          "text": [
            "[\"/job:localhost/replica:0/task:0/device:CPU:0\", \"/job:localhost/replica:0/task:0/device:XLA_CPU:0\", \"/job:localhost/replica:0/task:0/device:GPU:0\", \"/job:localhost/replica:0/task:0/device:XLA_GPU:0\"]\r\n"
          ],
          "name": "stdout"
        }
      ]
    },
    {
      "cell_type": "code",
      "metadata": {
        "id": "TsfEn1fCe-2d",
        "colab_type": "code",
        "colab": {}
      },
      "source": [
        "public struct MovieLens {\n",
        "\n",
        "    public let users: [Float]\n",
        "    public let items: [Float]\n",
        "    public let num_users: Int\n",
        "    public let num_items: Int\n",
        "    public let user_item_rating: [TensorPair<Int32,Float>]\n",
        "    public let rating: [Float]\n",
        "    public let user2id: [Float:Int]\n",
        "    public let id2user: [Int:Float]\n",
        "    public let item2id: [Float:Int]\n",
        "    public let id2item: [Int:Float]\n",
        "    public let neg_sampling: Tensor<Float>\n",
        "\n",
        "    static func downloadMovieLensDatasetIfNotPresent() -> String{\n",
        "        let localURL = URL(fileURLWithPath: FileManager.default.currentDirectoryPath)\n",
        "        let dataFolder = DatasetUtilities.downloadResource(\n",
        "            filename: \"ml-100k\",\n",
        "            fileExtension: \"zip\",\n",
        "            remoteRoot: URL(string: \"http://files.grouplens.org/datasets/movielens/\")!,\n",
        "            localStorageDirectory: localURL.appendingPathComponent(\"data/\", isDirectory: true))\n",
        "\n",
        "        return try! String(contentsOf: dataFolder.appendingPathComponent(\"u1.base\"), encoding: .utf8)}\n",
        "\n",
        "    public init() {\n",
        "        let dataFiles  = MovieLens.downloadMovieLensDatasetIfNotPresent()\n",
        "        let data: [[Float]] = dataFiles.split(separator: \"\\n\").map{ String($0).split(separator: \"\\t\").compactMap{ Float(String($0)) } }\n",
        "\n",
        "        // let data = datad[0...5000]\n",
        "        let users = data[column: 0].unique()\n",
        "        let items = data[column: 1].unique()\n",
        "        let rating = data[column: 2]\n",
        "\n",
        "        let user_index = 0...users.count-1\n",
        "        let user2id = Dictionary(uniqueKeysWithValues: zip(users,user_index))\n",
        "        let id2user = Dictionary(uniqueKeysWithValues: zip(user_index,users))\n",
        "\n",
        "        let item_index = 0...items.count-1\n",
        "        let item2id = Dictionary(uniqueKeysWithValues: zip(items,item_index))\n",
        "        let id2item = Dictionary(uniqueKeysWithValues: zip(item_index,items))\n",
        "\n",
        "        var neg_sampling = Tensor<Float>(zeros: [users.count,items.count])\n",
        "\n",
        "        var dataset:[TensorPair<Int32,Float>] = []\n",
        "\n",
        "        for element in data{\n",
        "            let u_index = user2id[element[0]]!\n",
        "            let i_index = item2id[element[1]]!\n",
        "            let rating = element[2]\n",
        "            if (rating > 0){\n",
        "              neg_sampling[u_index][i_index] = Tensor(1.0)\n",
        "            }\n",
        "        }\n",
        "\n",
        "        for element in data{\n",
        "            let u_index = user2id[element[0]]!\n",
        "            let i_index = item2id[element[1]]!\n",
        "\n",
        "            let x = Tensor<Int32>([Int32(u_index), Int32(i_index)])\n",
        "            dataset.append(TensorPair<Int32, Float>(first:x, second: [1]))\n",
        "\n",
        "            for i in 0...3{\n",
        "              var i_index = Int.random(in:item_index)\n",
        "              while(neg_sampling[u_index][i_index].scalarized() == 1.0){\n",
        "                i_index = Int.random(in:item_index)\n",
        "              }\n",
        "              let x = Tensor<Int32>([Int32(u_index), Int32(i_index)])\n",
        "              dataset.append(TensorPair<Int32, Float>(first: x, second: [0]))\n",
        "            }\n",
        "        }\n",
        "\n",
        "        self.num_users = users.count\n",
        "        self.num_items = items.count\n",
        "        self.users = users\n",
        "        self.items = items\n",
        "        self.rating = rating\n",
        "        self.user2id = user2id\n",
        "        self.id2user = id2user\n",
        "        self.item2id = item2id\n",
        "        self.id2item = id2item\n",
        "        self.user_item_rating = dataset\n",
        "        self.neg_sampling = neg_sampling\n",
        "    }\n",
        "}"
      ],
      "execution_count": 0,
      "outputs": []
    },
    {
      "cell_type": "markdown",
      "metadata": {
        "id": "o6eeeRiSFw6P",
        "colab_type": "text"
      },
      "source": [
        "# Model"
      ]
    },
    {
      "cell_type": "code",
      "metadata": {
        "id": "V2EX4Q80Fw6R",
        "colab_type": "code",
        "colab": {}
      },
      "source": [
        "public struct NeuMF: Module {\n",
        "\n",
        "    public typealias Scalar = Float\n",
        "\n",
        "    @noDerivative public let num_users: Int\n",
        "    @noDerivative public let num_items: Int\n",
        "    @noDerivative public let mf_dim: Int\n",
        "    @noDerivative public let mf_reg: Scalar\n",
        "    @noDerivative public var mlp_layer_sizes : [Int] = [64,32,16,8]\n",
        "    @noDerivative public var mlp_layer_regs: [Scalar] = [0,0,0,0]\n",
        "\n",
        "    public var mf_user_embed: Embedding<Scalar>\n",
        "    public var mf_item_embed: Embedding<Scalar>\n",
        "    public var mlp_user_embed: Embedding<Scalar>\n",
        "    public var mlp_item_embed: Embedding<Scalar>\n",
        "    public var dense1: Dense<Scalar>\n",
        "    public var dense2: Dense<Scalar>\n",
        "    public var dense3: Dense<Scalar>\n",
        "    public var final_dense: Dense<Scalar>\n",
        "\n",
        "\n",
        "    public init(\n",
        "        num_users: Int,\n",
        "        num_items: Int,\n",
        "        mf_dim: Int,\n",
        "        mf_reg: Float,\n",
        "        mlp_layer_sizes: [Int],\n",
        "        mlp_layer_regs: [Float]\n",
        "    ) {\n",
        "        self.num_users = num_users\n",
        "        self.num_items = num_items\n",
        "        self.mf_dim = mf_dim\n",
        "        self.mf_reg = mf_reg\n",
        "        self.mlp_layer_sizes = mlp_layer_sizes\n",
        "        self.mlp_layer_regs = mlp_layer_regs\n",
        "\n",
        "        // precondition(self.mlp_layer_sizes[0]%2 == 0, \"u dummy, mlp_layer_sizes[0] % 2 != 0\")\n",
        "        // precondition(self.mlp_layer_sizes.count == self.mlp_layer_regs.count, \"u dummy, layer_sizes != layer_regs!\")\n",
        "\n",
        "        //TODO: regularization\n",
        "        self.mf_user_embed = Embedding<Scalar>(vocabularySize: self.num_users, embeddingSize: self.mf_dim)\n",
        "        self.mf_item_embed = Embedding<Scalar>(vocabularySize: self.num_items, embeddingSize: self.mf_dim)\n",
        "        self.mlp_user_embed = Embedding<Scalar>(vocabularySize: self.num_users, embeddingSize: self.mlp_layer_sizes[0]/2)\n",
        "        self.mlp_item_embed = Embedding<Scalar>(vocabularySize: self.num_items, embeddingSize: self.mlp_layer_sizes[0]/2)\n",
        "\n",
        "        //TODO: Extend it for n layers by using for loop\n",
        "        //Currently only for 3 layers\n",
        "        dense1 = Dense(inputSize: self.mlp_layer_sizes[0], outputSize: self.mlp_layer_sizes[1], activation: relu)\n",
        "        dense2 = Dense(inputSize: self.mlp_layer_sizes[1], outputSize: self.mlp_layer_sizes[2], activation: relu)\n",
        "        dense3 = Dense(inputSize: self.mlp_layer_sizes[2], outputSize: self.mlp_layer_sizes[3], activation: relu)\n",
        "        final_dense = Dense(inputSize: (self.mlp_layer_sizes[3] + self.mf_dim), outputSize: 1)\n",
        "    }\n",
        "        @differentiable\n",
        "        public func callAsFunction(_ input: Tensor<Int32>) -> Tensor<Scalar>{\n",
        "            let user_indices = input.unstacked(alongAxis:1)[0]\n",
        "            let item_indices = input.unstacked(alongAxis:1)[1]\n",
        "\n",
        "            let user_embed_mlp = self.mlp_user_embed(user_indices)\n",
        "            let item_embed_mlp = self.mlp_item_embed(item_indices)\n",
        "            let user_embed_mf = self.mf_user_embed(user_indices)\n",
        "            let item_embed_mf = self.mf_item_embed(item_indices)\n",
        "\n",
        "            // let mf_vector = matmul(user_embed_mf,item_embed_mf)\n",
        "            let mf_vector = user_embed_mf*item_embed_mf\n",
        "            var mlp_vector = user_embed_mlp.concatenated(with:item_embed_mlp,alongAxis:-1)\n",
        "            //\n",
        "            // print(mlp_vector.shape)\n",
        "            mlp_vector = mlp_vector.sequenced(through: dense1, dense2, dense3)\n",
        "            let vector = mlp_vector.concatenated(with:mf_vector,alongAxis:-1)\n",
        "\n",
        "            return final_dense(vector)\n",
        "            // return mf_vector\n",
        "        }\n",
        "    // }\n",
        "}\n"
      ],
      "execution_count": 0,
      "outputs": []
    },
    {
      "cell_type": "markdown",
      "metadata": {
        "id": "3KP3-0PAFw6X",
        "colab_type": "text"
      },
      "source": [
        "# Training"
      ]
    },
    {
      "cell_type": "code",
      "metadata": {
        "id": "ghSRfq6HNWN6",
        "colab_type": "code",
        "colab": {}
      },
      "source": [
        "import Batcher"
      ],
      "execution_count": 0,
      "outputs": []
    },
    {
      "cell_type": "code",
      "metadata": {
        "id": "_xMzkm1YFw6Y",
        "colab_type": "code",
        "outputId": "9efd1444-7e29-4ccd-d6e6-187740411a07",
        "colab": {
          "base_uri": "https://localhost:8080/",
          "height": 34
        }
      },
      "source": [
        "let dataset = MovieLens()"
      ],
      "execution_count": 8,
      "outputs": [
        {
          "output_type": "stream",
          "text": [
            "Loading resource: ml-100k\r\n"
          ],
          "name": "stdout"
        }
      ]
    },
    {
      "cell_type": "code",
      "metadata": {
        "id": "inKsR0owFw6d",
        "colab_type": "code",
        "colab": {}
      },
      "source": [
        "let num_users = dataset.num_users\n",
        "let num_items = dataset.num_items"
      ],
      "execution_count": 0,
      "outputs": []
    },
    {
      "cell_type": "code",
      "metadata": {
        "id": "OmNeXE7snzWu",
        "colab_type": "code",
        "outputId": "f515ab9b-1eb2-45ab-b11c-044de2adcc2a",
        "colab": {
          "base_uri": "https://localhost:8080/",
          "height": 68
        }
      },
      "source": [
        "print(\"Number of datapoints\", dataset.user_item_rating.count)\n",
        "print(\"Number of users\", num_users)\n",
        "print(\"Number of items\", num_items)"
      ],
      "execution_count": 10,
      "outputs": [
        {
          "output_type": "stream",
          "text": [
            "Number of datapoints 400000\r\n",
            "Number of users 943\r\n",
            "Number of items 1650\r\n"
          ],
          "name": "stdout"
        }
      ]
    },
    {
      "cell_type": "code",
      "metadata": {
        "id": "HpOps5Kjpbr4",
        "colab_type": "code",
        "colab": {}
      },
      "source": [
        "let batcher = Batcher(on: dataset.user_item_rating, batchSize: 1024, shuffle: true)"
      ],
      "execution_count": 0,
      "outputs": []
    },
    {
      "cell_type": "code",
      "metadata": {
        "id": "MB-1IAWAFw6o",
        "colab_type": "code",
        "colab": {}
      },
      "source": [
        "var size:[Int] = [64, 32, 16, 8]\n",
        "var regs:[Float] = [0, 0, 0, 0]\n",
        "var model = NeuMF(num_users: num_users, num_items: num_items, mf_dim: 8, mf_reg: 0.0, mlp_layer_sizes: size, mlp_layer_regs: regs)"
      ],
      "execution_count": 0,
      "outputs": []
    },
    {
      "cell_type": "code",
      "metadata": {
        "id": "CNsXgzvdn4Gv",
        "colab_type": "code",
        "colab": {}
      },
      "source": [
        "let optimizer = Adam(for: model, learningRate: 0.005)"
      ],
      "execution_count": 0,
      "outputs": []
    },
    {
      "cell_type": "code",
      "metadata": {
        "id": "covkelRMFw6t",
        "colab_type": "code",
        "outputId": "fd31c890-3f3b-4c30-e3b5-1cb5205049ec",
        "colab": {
          "base_uri": "https://localhost:8080/",
          "height": 68
        }
      },
      "source": [
        "withDevice(.gpu){\n",
        "  for epoch in 1...100{\n",
        "    var avg_loss: Float = 0.0\n",
        "    Context.local.learningPhase = .training\n",
        "    for data in batcher.sequenced(){\n",
        "            let user_id = data.first\n",
        "            let rating = data.second\n",
        "            let (loss, grad) = valueWithGradient(at: model){model -> Tensor<Float> in\n",
        "            let logits = model(user_id)\n",
        "            return sigmoidCrossEntropy(logits: logits, labels: rating)}\n",
        "\n",
        "            optimizer.update(&model, along: grad)\n",
        "            avg_loss = avg_loss + loss.scalarized()\n",
        "    }\n",
        "    print(\"Epoch: \\(epoch)\", \"Current loss: \\(avg_loss/1024.0)\")\n",
        "  }\n",
        "}"
      ],
      "execution_count": 0,
      "outputs": [
        {
          "output_type": "stream",
          "text": [
            "Epoch: 1 Current loss: 0.14999056\n",
            "Epoch: 2 Current loss: 0.13836882\n",
            "Epoch: 3 Current loss: 0.13333568\n"
          ],
          "name": "stdout"
        }
      ]
    },
    {
      "cell_type": "code",
      "metadata": {
        "id": "iluN8Vr8pagw",
        "colab_type": "code",
        "colab": {}
      },
      "source": [
        ""
      ],
      "execution_count": 0,
      "outputs": []
    },
    {
      "cell_type": "markdown",
      "metadata": {
        "id": "36LvJaN0Fw6z",
        "colab_type": "text"
      },
      "source": [
        "## Testing the result and then verifying it on Test dataset"
      ]
    },
    {
      "cell_type": "code",
      "metadata": {
        "id": "O85IRFgEpc92",
        "colab_type": "code",
        "colab": {
          "base_uri": "https://localhost:8080/",
          "height": 34
        },
        "outputId": "d305f354-0b55-4cb0-9c42-d6624575aa29"
      },
      "source": [
        "let localURL = URL(fileURLWithPath: FileManager.default.currentDirectoryPath)\n",
        "let dataFolder = DatasetUtilities.downloadResource(\n",
        "    filename: \"ml-100k\",\n",
        "    fileExtension: \"zip\",\n",
        "    remoteRoot: URL(string: \"http://files.grouplens.org/datasets/movielens/\")!,\n",
        "    localStorageDirectory: localURL.appendingPathComponent(\"data/\", isDirectory: true))"
      ],
      "execution_count": 22,
      "outputs": [
        {
          "output_type": "stream",
          "text": [
            "Loading resource: ml-100k\r\n"
          ],
          "name": "stdout"
        }
      ]
    },
    {
      "cell_type": "code",
      "metadata": {
        "id": "cP2wXCfE0SBb",
        "colab_type": "code",
        "colab": {}
      },
      "source": [
        "let test =  String(contentsOf: dataFolder.appendingPathComponent(\"u1.test\"), encoding: .utf8)"
      ],
      "execution_count": 0,
      "outputs": []
    },
    {
      "cell_type": "code",
      "metadata": {
        "id": "M_6W7TmI0SMm",
        "colab_type": "code",
        "colab": {}
      },
      "source": [
        "let data: [[Float]] = test.split(separator: \"\\n\").map{ String($0).split(separator: \"\\t\").compactMap{ Float(String($0)) } }"
      ],
      "execution_count": 0,
      "outputs": []
    },
    {
      "cell_type": "code",
      "metadata": {
        "id": "5OdefD4QcqdH",
        "colab_type": "code",
        "colab": {}
      },
      "source": [
        "let count_item = Array(repeating: 0.0, count: data[column: 0].unique().count )"
      ],
      "execution_count": 0,
      "outputs": []
    },
    {
      "cell_type": "code",
      "metadata": {
        "id": "6Iz9Jm97clQ0",
        "colab_type": "code",
        "colab": {}
      },
      "source": [
        "var item_count = Dictionary(uniqueKeysWithValues: zip(data[column: 0].unique(),count_item))"
      ],
      "execution_count": 0,
      "outputs": []
    },
    {
      "cell_type": "code",
      "metadata": {
        "id": "Q-toEYoq0SRi",
        "colab_type": "code",
        "colab": {}
      },
      "source": [
        "var test_neg_sampling = Tensor<Float>(zeros: [num_users,num_items])\n",
        "for element in data{\n",
        "    let rating = element[2]\n",
        "    if (rating > 0 && dataset.item2id[element[1]] != nil){\n",
        "      let u_index = dataset.user2id[element[0]]!\n",
        "      let i_index = dataset.item2id[element[1]]!\n",
        "      test_neg_sampling[u_index][i_index] = Tensor(1.0)\n",
        "      item_count[element[0]] = item_count[element[0]]! + 1.0\n",
        "    }\n",
        "}"
      ],
      "execution_count": 0,
      "outputs": []
    },
    {
      "cell_type": "code",
      "metadata": {
        "id": "zzc05eoMhvmw",
        "colab_type": "code",
        "colab": {}
      },
      "source": [
        ""
      ],
      "execution_count": 0,
      "outputs": []
    },
    {
      "cell_type": "code",
      "metadata": {
        "id": "N5jwifhr81vn",
        "colab_type": "code",
        "colab": {
          "base_uri": "https://localhost:8080/",
          "height": 1000
        },
        "outputId": "c1778be7-31d8-4ad0-a42b-cd6363ce9da5"
      },
      "source": [
        "var correct = 0.0\n",
        "var temp_correct = 0.0\n",
        "var count = 0\n",
        "for user in data[column: 0].unique(){\n",
        "    var negative_item: [Float] = []\n",
        "    var output: [Float] = []\n",
        "    let user_index = dataset.user2id[user]!\n",
        "    for item in dataset.items{\n",
        "        let item_index = dataset.item2id[item]!\n",
        "        if dataset.neg_sampling[user_index][item_index].scalarized() == 0{\n",
        "            let input =  Tensor<Int32>(shape: [1, 2],scalars: [Int32(user_index),Int32(item_index)])\n",
        "            output.append(model(input).scalarized())\n",
        "            negative_item.append(item)\n",
        "        }\n",
        "    }\n",
        "\n",
        "    let item_score = Dictionary(uniqueKeysWithValues: zip(negative_item,output))\n",
        "    let sorted_item_score = item_score.sorted {$0.1 > $1.1}\n",
        "    let top_10 = sorted_item_score.prefix(min(10, Int(item_count[user]!)))\n",
        "\n",
        "    temp_correct = 0.0\n",
        "    for (key,_) in top_10{\n",
        "        if(test_neg_sampling[user_index][dataset.item2id[key]!] == Tensor(1.0)){\n",
        "          correct = correct + 1.0\n",
        "          temp_correct = temp_correct + 1.0\n",
        "        }\n",
        "        count = count + 1\n",
        "    }\n",
        "    print(\"User:\",user, \"Accuracy:\", temp_correct/Double(top_10.count))\n",
        "}"
      ],
      "execution_count": 64,
      "outputs": [
        {
          "output_type": "stream",
          "text": [
            "User: 1.0 Accuracy: 0.6\n",
            "User: 2.0 Accuracy: 0.2\n",
            "User: 3.0 Accuracy: 0.6\n",
            "User: 4.0 Accuracy: 0.3\n",
            "User: 5.0 Accuracy: 0.6\n",
            "User: 6.0 Accuracy: 0.5\n",
            "User: 7.0 Accuracy: 0.7\n",
            "User: 8.0 Accuracy: 0.5\n",
            "User: 9.0 Accuracy: 0.0\n",
            "User: 10.0 Accuracy: 0.1\n",
            "User: 11.0 Accuracy: 0.2\n",
            "User: 12.0 Accuracy: 0.4\n",
            "User: 13.0 Accuracy: 0.7\n",
            "User: 14.0 Accuracy: 0.4\n",
            "User: 15.0 Accuracy: 0.4\n",
            "User: 16.0 Accuracy: 0.4\n",
            "User: 17.0 Accuracy: 0.2222222222222222\n",
            "User: 18.0 Accuracy: 0.6\n",
            "User: 19.0 Accuracy: 0.1\n",
            "User: 20.0 Accuracy: 0.3\n",
            "User: 21.0 Accuracy: 0.3\n",
            "User: 22.0 Accuracy: 0.4\n",
            "User: 23.0 Accuracy: 0.4\n",
            "User: 24.0 Accuracy: 0.1\n",
            "User: 25.0 Accuracy: 0.3\n",
            "User: 26.0 Accuracy: 0.8\n",
            "User: 27.0 Accuracy: 0.2\n",
            "User: 28.0 Accuracy: 0.4\n",
            "User: 29.0 Accuracy: 0.0\n",
            "User: 30.0 Accuracy: 0.1\n",
            "User: 31.0 Accuracy: 0.1\n",
            "User: 32.0 Accuracy: 0.1\n",
            "User: 33.0 Accuracy: 0.4\n",
            "User: 34.0 Accuracy: 0.3\n",
            "User: 35.0 Accuracy: 0.125\n",
            "User: 36.0 Accuracy: 0.0\n",
            "User: 37.0 Accuracy: 0.4\n",
            "User: 38.0 Accuracy: 0.2\n",
            "User: 39.0 Accuracy: 0.2222222222222222\n",
            "User: 40.0 Accuracy: 0.4\n",
            "User: 41.0 Accuracy: 0.3\n",
            "User: 42.0 Accuracy: 0.5\n",
            "User: 43.0 Accuracy: 0.6\n",
            "User: 44.0 Accuracy: 0.6\n",
            "User: 45.0 Accuracy: 0.3\n",
            "User: 46.0 Accuracy: 0.3\n",
            "User: 47.0 Accuracy: 0.3333333333333333\n",
            "User: 48.0 Accuracy: 0.2\n",
            "User: 49.0 Accuracy: 0.5\n",
            "User: 50.0 Accuracy: 0.0\n",
            "User: 51.0 Accuracy: 0.0\n",
            "User: 52.0 Accuracy: 0.4\n",
            "User: 53.0 Accuracy: 0.1\n",
            "User: 54.0 Accuracy: 0.4\n",
            "User: 55.0 Accuracy: 0.1\n",
            "User: 56.0 Accuracy: 0.8\n",
            "User: 57.0 Accuracy: 0.5\n",
            "User: 58.0 Accuracy: 0.1\n",
            "User: 59.0 Accuracy: 0.8\n",
            "User: 60.0 Accuracy: 0.4\n",
            "User: 61.0 Accuracy: 0.2222222222222222\n",
            "User: 62.0 Accuracy: 0.5\n",
            "User: 63.0 Accuracy: 0.4\n",
            "User: 64.0 Accuracy: 0.8\n",
            "User: 65.0 Accuracy: 0.6\n",
            "User: 66.0 Accuracy: 0.2\n",
            "User: 67.0 Accuracy: 0.2\n",
            "User: 68.0 Accuracy: 0.1\n",
            "User: 69.0 Accuracy: 0.3\n",
            "User: 70.0 Accuracy: 0.4\n",
            "User: 71.0 Accuracy: 0.1\n",
            "User: 72.0 Accuracy: 0.5\n",
            "User: 73.0 Accuracy: 0.2\n",
            "User: 74.0 Accuracy: 0.0\n",
            "User: 75.0 Accuracy: 0.2\n",
            "User: 76.0 Accuracy: 0.0\n",
            "User: 77.0 Accuracy: 0.2\n",
            "User: 78.0 Accuracy: 0.0\n",
            "User: 79.0 Accuracy: 0.2\n",
            "User: 80.0 Accuracy: 0.2\n",
            "User: 81.0 Accuracy: 0.1\n",
            "User: 82.0 Accuracy: 0.1\n",
            "User: 83.0 Accuracy: 0.2\n",
            "User: 84.0 Accuracy: 0.4\n",
            "User: 85.0 Accuracy: 0.7\n",
            "User: 86.0 Accuracy: 0.1\n",
            "User: 87.0 Accuracy: 0.4\n",
            "User: 88.0 Accuracy: 0.1\n",
            "User: 89.0 Accuracy: 0.1\n",
            "User: 90.0 Accuracy: 0.7\n",
            "User: 91.0 Accuracy: 0.4\n",
            "User: 92.0 Accuracy: 0.8\n",
            "User: 93.0 Accuracy: 0.1\n",
            "User: 94.0 Accuracy: 0.7\n",
            "User: 95.0 Accuracy: 0.4\n",
            "User: 96.0 Accuracy: 0.1\n",
            "User: 97.0 Accuracy: 0.4\n",
            "User: 98.0 Accuracy: 0.1\n",
            "User: 99.0 Accuracy: 0.6\n",
            "User: 100.0 Accuracy: 0.2\n",
            "User: 101.0 Accuracy: 0.2\n",
            "User: 102.0 Accuracy: 0.8\n",
            "User: 103.0 Accuracy: 0.3\n",
            "User: 104.0 Accuracy: 0.6\n",
            "User: 105.0 Accuracy: 0.42857142857142855\n",
            "User: 106.0 Accuracy: 0.2\n",
            "User: 107.0 Accuracy: 0.3333333333333333\n",
            "User: 108.0 Accuracy: 0.4\n",
            "User: 109.0 Accuracy: 0.4\n",
            "User: 110.0 Accuracy: 0.6\n",
            "User: 111.0 Accuracy: 0.4\n",
            "User: 112.0 Accuracy: 0.3\n",
            "User: 113.0 Accuracy: 0.5\n",
            "User: 114.0 Accuracy: 0.1\n",
            "User: 115.0 Accuracy: 0.3\n",
            "User: 116.0 Accuracy: 0.3\n",
            "User: 117.0 Accuracy: 0.7\n",
            "User: 118.0 Accuracy: 0.2\n",
            "User: 119.0 Accuracy: 0.6\n",
            "User: 120.0 Accuracy: 0.3\n",
            "User: 121.0 Accuracy: 0.4\n",
            "User: 122.0 Accuracy: 0.1\n",
            "User: 123.0 Accuracy: 0.0\n",
            "User: 124.0 Accuracy: 0.2\n",
            "User: 125.0 Accuracy: 0.6\n",
            "User: 126.0 Accuracy: 0.0\n",
            "User: 127.0 Accuracy: 0.0\n",
            "User: 128.0 Accuracy: 0.7\n",
            "User: 129.0 Accuracy: 0.3\n",
            "User: 130.0 Accuracy: 0.5\n",
            "User: 131.0 Accuracy: 0.3\n",
            "User: 132.0 Accuracy: 0.0\n",
            "User: 133.0 Accuracy: 0.125\n",
            "User: 134.0 Accuracy: 0.4\n",
            "User: 135.0 Accuracy: 0.1\n",
            "User: 136.0 Accuracy: 0.2\n",
            "User: 137.0 Accuracy: 0.4\n",
            "User: 138.0 Accuracy: 0.0\n",
            "User: 139.0 Accuracy: 0.1111111111111111\n",
            "User: 140.0 Accuracy: 0.2\n",
            "User: 141.0 Accuracy: 0.3\n",
            "User: 142.0 Accuracy: 0.0\n",
            "User: 143.0 Accuracy: 0.0\n",
            "User: 144.0 Accuracy: 0.7\n",
            "User: 145.0 Accuracy: 0.8\n",
            "User: 146.0 Accuracy: 0.3\n",
            "User: 147.0 Accuracy: 0.3\n",
            "User: 148.0 Accuracy: 0.2\n",
            "User: 149.0 Accuracy: 0.1\n",
            "User: 150.0 Accuracy: 0.5\n",
            "User: 151.0 Accuracy: 0.5\n",
            "User: 152.0 Accuracy: 0.3\n",
            "User: 153.0 Accuracy: 0.1\n",
            "User: 154.0 Accuracy: 0.4\n",
            "User: 155.0 Accuracy: 0.2\n",
            "User: 156.0 Accuracy: 0.2\n",
            "User: 157.0 Accuracy: 0.2\n",
            "User: 158.0 Accuracy: 0.6\n",
            "User: 159.0 Accuracy: 0.1\n",
            "User: 160.0 Accuracy: 0.4\n",
            "User: 161.0 Accuracy: 0.6\n",
            "User: 162.0 Accuracy: 0.2\n",
            "User: 163.0 Accuracy: 0.1\n",
            "User: 164.0 Accuracy: 0.3\n",
            "User: 165.0 Accuracy: 0.0\n",
            "User: 166.0 Accuracy: 0.3\n",
            "User: 167.0 Accuracy: 0.0\n",
            "User: 168.0 Accuracy: 0.3\n",
            "User: 169.0 Accuracy: 0.0\n",
            "User: 170.0 Accuracy: 0.14285714285714285\n",
            "User: 171.0 Accuracy: 0.0\n",
            "User: 172.0 Accuracy: 0.1\n",
            "User: 173.0 Accuracy: 0.4\n",
            "User: 174.0 Accuracy: 0.2\n",
            "User: 175.0 Accuracy: 0.2\n",
            "User: 176.0 Accuracy: 0.5\n",
            "User: 177.0 Accuracy: 0.5\n",
            "User: 178.0 Accuracy: 0.6\n",
            "User: 179.0 Accuracy: 0.1\n",
            "User: 180.0 Accuracy: 0.1\n",
            "User: 181.0 Accuracy: 0.4\n",
            "User: 182.0 Accuracy: 0.2\n",
            "User: 183.0 Accuracy: 0.1\n",
            "User: 184.0 Accuracy: 0.5\n",
            "User: 185.0 Accuracy: 0.3\n",
            "User: 186.0 Accuracy: 0.3\n",
            "User: 187.0 Accuracy: 0.3\n",
            "User: 188.0 Accuracy: 0.4\n",
            "User: 189.0 Accuracy: 0.3\n",
            "User: 190.0 Accuracy: 0.3\n",
            "User: 191.0 Accuracy: 0.3\n",
            "User: 192.0 Accuracy: 0.1\n",
            "User: 193.0 Accuracy: 0.0\n",
            "User: 194.0 Accuracy: 0.7\n",
            "User: 195.0 Accuracy: 0.2\n",
            "User: 196.0 Accuracy: 0.0\n",
            "User: 197.0 Accuracy: 0.9\n",
            "User: 198.0 Accuracy: 0.5\n",
            "User: 199.0 Accuracy: 0.4\n",
            "User: 200.0 Accuracy: 0.5\n",
            "User: 201.0 Accuracy: 0.8\n",
            "User: 202.0 Accuracy: 0.14285714285714285\n",
            "User: 203.0 Accuracy: 0.2\n",
            "User: 204.0 Accuracy: 0.3\n",
            "User: 205.0 Accuracy: 0.6\n",
            "User: 206.0 Accuracy: 0.0\n",
            "User: 207.0 Accuracy: 0.1\n",
            "User: 208.0 Accuracy: 0.2\n",
            "User: 209.0 Accuracy: 0.2\n",
            "User: 210.0 Accuracy: 0.5\n",
            "User: 211.0 Accuracy: 0.0\n",
            "User: 212.0 Accuracy: 0.0\n",
            "User: 213.0 Accuracy: 0.4\n",
            "User: 214.0 Accuracy: 0.6\n",
            "User: 215.0 Accuracy: 0.4\n",
            "User: 216.0 Accuracy: 0.2\n",
            "User: 217.0 Accuracy: 0.5\n",
            "User: 218.0 Accuracy: 0.1\n",
            "User: 219.0 Accuracy: 0.0\n",
            "User: 220.0 Accuracy: 0.3\n",
            "User: 221.0 Accuracy: 0.1\n",
            "User: 222.0 Accuracy: 0.8\n",
            "User: 223.0 Accuracy: 0.3\n",
            "User: 224.0 Accuracy: 0.2\n",
            "User: 225.0 Accuracy: 0.0\n",
            "User: 226.0 Accuracy: 0.3\n",
            "User: 227.0 Accuracy: 0.2\n",
            "User: 228.0 Accuracy: 0.2\n",
            "User: 229.0 Accuracy: 0.5\n",
            "User: 230.0 Accuracy: 0.5\n",
            "User: 231.0 Accuracy: 0.3\n",
            "User: 232.0 Accuracy: 0.3\n",
            "User: 233.0 Accuracy: 0.4\n",
            "User: 234.0 Accuracy: 0.5\n",
            "User: 235.0 Accuracy: 0.1\n",
            "User: 236.0 Accuracy: 0.2\n",
            "User: 237.0 Accuracy: 0.4\n",
            "User: 238.0 Accuracy: 0.2\n",
            "User: 239.0 Accuracy: 0.4\n",
            "User: 240.0 Accuracy: 0.1111111111111111\n",
            "User: 241.0 Accuracy: 0.1\n",
            "User: 242.0 Accuracy: 0.0\n",
            "User: 243.0 Accuracy: 0.2\n",
            "User: 244.0 Accuracy: 0.3\n",
            "User: 245.0 Accuracy: 0.1111111111111111\n",
            "User: 246.0 Accuracy: 0.3\n",
            "User: 247.0 Accuracy: 0.2\n",
            "User: 248.0 Accuracy: 0.2\n",
            "User: 249.0 Accuracy: 0.7\n",
            "User: 250.0 Accuracy: 0.4\n",
            "User: 251.0 Accuracy: 0.5\n",
            "User: 252.0 Accuracy: 0.2\n",
            "User: 253.0 Accuracy: 0.5\n",
            "User: 254.0 Accuracy: 0.4\n",
            "User: 255.0 Accuracy: 0.1\n",
            "User: 256.0 Accuracy: 0.7\n",
            "User: 257.0 Accuracy: 0.2\n",
            "User: 258.0 Accuracy: 0.3\n",
            "User: 259.0 Accuracy: 0.0\n",
            "User: 260.0 Accuracy: 0.1\n",
            "User: 261.0 Accuracy: 0.3\n",
            "User: 262.0 Accuracy: 0.3\n",
            "User: 263.0 Accuracy: 0.3\n",
            "User: 264.0 Accuracy: 0.2\n",
            "User: 265.0 Accuracy: 0.5\n",
            "User: 266.0 Accuracy: 0.0\n",
            "User: 267.0 Accuracy: 0.7\n",
            "User: 268.0 Accuracy: 0.6\n",
            "User: 269.0 Accuracy: 0.3\n",
            "User: 270.0 Accuracy: 0.3\n",
            "User: 271.0 Accuracy: 0.4\n",
            "User: 272.0 Accuracy: 0.1\n",
            "User: 273.0 Accuracy: 0.1\n",
            "User: 274.0 Accuracy: 0.3\n",
            "User: 275.0 Accuracy: 0.4\n",
            "User: 276.0 Accuracy: 0.5\n",
            "User: 277.0 Accuracy: 0.3\n",
            "User: 278.0 Accuracy: 0.1\n",
            "User: 279.0 Accuracy: 0.5\n",
            "User: 280.0 Accuracy: 0.2\n",
            "User: 281.0 Accuracy: 0.1111111111111111\n",
            "User: 282.0 Accuracy: 0.3\n",
            "User: 283.0 Accuracy: 0.0\n",
            "User: 284.0 Accuracy: 0.6\n",
            "User: 285.0 Accuracy: 0.1\n",
            "User: 286.0 Accuracy: 0.4\n",
            "User: 287.0 Accuracy: 0.2\n",
            "User: 288.0 Accuracy: 0.3\n",
            "User: 289.0 Accuracy: 0.3\n",
            "User: 290.0 Accuracy: 0.6\n",
            "User: 291.0 Accuracy: 0.6\n",
            "User: 292.0 Accuracy: 0.2\n",
            "User: 293.0 Accuracy: 0.7\n",
            "User: 294.0 Accuracy: 0.5\n",
            "User: 295.0 Accuracy: 0.6\n",
            "User: 296.0 Accuracy: 0.7\n",
            "User: 297.0 Accuracy: 0.7\n",
            "User: 298.0 Accuracy: 0.4\n",
            "User: 299.0 Accuracy: 0.5\n",
            "User: 300.0 Accuracy: 0.25\n",
            "User: 301.0 Accuracy: 0.9\n",
            "User: 302.0 Accuracy: 0.3\n",
            "User: 303.0 Accuracy: 0.7\n",
            "User: 304.0 Accuracy: 0.2\n",
            "User: 305.0 Accuracy: 0.2\n",
            "User: 306.0 Accuracy: 0.1\n",
            "User: 307.0 Accuracy: 0.5\n",
            "User: 308.0 Accuracy: 0.8\n",
            "User: 309.0 Accuracy: 0.3333333333333333\n",
            "User: 310.0 Accuracy: 0.0\n",
            "User: 311.0 Accuracy: 0.8\n",
            "User: 312.0 Accuracy: 0.5\n",
            "User: 313.0 Accuracy: 0.7\n",
            "User: 314.0 Accuracy: 0.5\n",
            "User: 315.0 Accuracy: 0.2\n",
            "User: 316.0 Accuracy: 0.2\n",
            "User: 317.0 Accuracy: 0.3\n",
            "User: 318.0 Accuracy: 0.4\n",
            "User: 319.0 Accuracy: 0.0\n",
            "User: 320.0 Accuracy: 0.3\n",
            "User: 321.0 Accuracy: 0.2\n",
            "User: 322.0 Accuracy: 0.1\n",
            "User: 323.0 Accuracy: 0.6\n",
            "User: 324.0 Accuracy: 0.6\n",
            "User: 325.0 Accuracy: 0.3\n",
            "User: 326.0 Accuracy: 0.2\n",
            "User: 327.0 Accuracy: 0.9\n",
            "User: 328.0 Accuracy: 0.7\n",
            "User: 329.0 Accuracy: 0.4\n",
            "User: 330.0 Accuracy: 0.6\n",
            "User: 331.0 Accuracy: 0.0\n",
            "User: 332.0 Accuracy: 0.6\n",
            "User: 333.0 Accuracy: 0.0\n",
            "User: 334.0 Accuracy: 0.5\n",
            "User: 335.0 Accuracy: 0.2222222222222222\n",
            "User: 336.0 Accuracy: 0.1\n",
            "User: 337.0 Accuracy: 0.2\n",
            "User: 338.0 Accuracy: 0.3\n",
            "User: 339.0 Accuracy: 0.8\n",
            "User: 340.0 Accuracy: 0.0\n",
            "User: 341.0 Accuracy: 0.0\n",
            "User: 342.0 Accuracy: 0.3\n",
            "User: 343.0 Accuracy: 0.5\n",
            "User: 344.0 Accuracy: 0.7\n",
            "User: 345.0 Accuracy: 0.4\n",
            "User: 346.0 Accuracy: 0.2\n",
            "User: 347.0 Accuracy: 0.7\n",
            "User: 348.0 Accuracy: 0.3\n",
            "User: 349.0 Accuracy: 0.2\n",
            "User: 350.0 Accuracy: 0.1\n",
            "User: 351.0 Accuracy: 0.2\n",
            "User: 352.0 Accuracy: 0.1\n",
            "User: 353.0 Accuracy: 0.5\n",
            "User: 354.0 Accuracy: 0.6\n",
            "User: 355.0 Accuracy: 0.0\n",
            "User: 356.0 Accuracy: 0.2222222222222222\n",
            "User: 357.0 Accuracy: 0.4\n",
            "User: 358.0 Accuracy: 0.125\n",
            "User: 359.0 Accuracy: 0.1\n",
            "User: 360.0 Accuracy: 0.4\n",
            "User: 361.0 Accuracy: 0.2\n",
            "User: 362.0 Accuracy: 0.14285714285714285\n",
            "User: 363.0 Accuracy: 0.2\n",
            "User: 364.0 Accuracy: 0.3333333333333333\n",
            "User: 365.0 Accuracy: 0.1\n",
            "User: 366.0 Accuracy: 0.0\n",
            "User: 367.0 Accuracy: 0.0\n",
            "User: 368.0 Accuracy: 0.0\n",
            "User: 369.0 Accuracy: 0.0\n",
            "User: 370.0 Accuracy: 0.3\n",
            "User: 371.0 Accuracy: 0.4\n",
            "User: 372.0 Accuracy: 0.0\n",
            "User: 373.0 Accuracy: 0.7\n",
            "User: 374.0 Accuracy: 0.6\n",
            "User: 375.0 Accuracy: 0.1\n",
            "User: 376.0 Accuracy: 0.0\n",
            "User: 377.0 Accuracy: 0.0\n",
            "User: 378.0 Accuracy: 0.9\n",
            "User: 379.0 Accuracy: 0.4\n",
            "User: 380.0 Accuracy: 0.3\n",
            "User: 381.0 Accuracy: 0.2\n",
            "User: 382.0 Accuracy: 0.2\n",
            "User: 383.0 Accuracy: 0.3\n",
            "User: 384.0 Accuracy: 0.16666666666666666\n",
            "User: 385.0 Accuracy: 0.5\n",
            "User: 386.0 Accuracy: 0.0\n",
            "User: 387.0 Accuracy: 0.4\n",
            "User: 388.0 Accuracy: 0.1\n",
            "User: 389.0 Accuracy: 0.5\n",
            "User: 390.0 Accuracy: 0.1\n",
            "User: 391.0 Accuracy: 0.1\n",
            "User: 392.0 Accuracy: 0.5\n",
            "User: 393.0 Accuracy: 0.4\n",
            "User: 394.0 Accuracy: 0.6\n",
            "User: 395.0 Accuracy: 0.3\n",
            "User: 396.0 Accuracy: 0.1\n",
            "User: 397.0 Accuracy: 0.1\n",
            "User: 398.0 Accuracy: 0.2\n",
            "User: 399.0 Accuracy: 0.4\n",
            "User: 400.0 Accuracy: 0.0\n",
            "User: 401.0 Accuracy: 0.2\n",
            "User: 402.0 Accuracy: 0.3\n",
            "User: 403.0 Accuracy: 0.6666666666666666\n",
            "User: 404.0 Accuracy: 0.25\n",
            "User: 405.0 Accuracy: 0.8\n",
            "User: 406.0 Accuracy: 0.5\n",
            "User: 407.0 Accuracy: 0.6\n",
            "User: 408.0 Accuracy: 0.25\n",
            "User: 409.0 Accuracy: 0.2\n",
            "User: 410.0 Accuracy: 0.4\n",
            "User: 411.0 Accuracy: 0.125\n",
            "User: 412.0 Accuracy: 0.0\n",
            "User: 413.0 Accuracy: 0.0\n",
            "User: 414.0 Accuracy: 0.0\n",
            "User: 415.0 Accuracy: 0.0\n",
            "User: 416.0 Accuracy: 0.5\n",
            "User: 417.0 Accuracy: 0.3\n",
            "User: 418.0 Accuracy: 0.0\n",
            "User: 419.0 Accuracy: 0.0\n",
            "User: 420.0 Accuracy: 0.0\n",
            "User: 421.0 Accuracy: 0.0\n",
            "User: 422.0 Accuracy: 0.1\n",
            "User: 423.0 Accuracy: 0.2\n",
            "User: 424.0 Accuracy: 0.0\n",
            "User: 425.0 Accuracy: 0.5\n",
            "User: 426.0 Accuracy: 0.1\n",
            "User: 427.0 Accuracy: 0.14285714285714285\n",
            "User: 428.0 Accuracy: 0.14285714285714285\n",
            "User: 429.0 Accuracy: 0.4\n",
            "User: 430.0 Accuracy: 0.0\n",
            "User: 431.0 Accuracy: 0.0\n",
            "User: 432.0 Accuracy: 0.2\n",
            "User: 433.0 Accuracy: 0.0\n",
            "User: 434.0 Accuracy: 0.0\n",
            "User: 435.0 Accuracy: 0.5\n",
            "User: 436.0 Accuracy: 0.0\n",
            "User: 437.0 Accuracy: 0.2\n",
            "User: 438.0 Accuracy: 0.5\n",
            "User: 439.0 Accuracy: 0.0\n",
            "User: 440.0 Accuracy: 0.0\n",
            "User: 442.0 Accuracy: 0.5\n",
            "User: 444.0 Accuracy: 0.0\n",
            "User: 445.0 Accuracy: 0.1\n",
            "User: 446.0 Accuracy: 0.0\n",
            "User: 447.0 Accuracy: 0.1\n",
            "User: 448.0 Accuracy: 0.0\n",
            "User: 449.0 Accuracy: 0.0\n",
            "User: 450.0 Accuracy: 0.7\n",
            "User: 451.0 Accuracy: 0.0\n",
            "User: 452.0 Accuracy: 0.1\n",
            "User: 453.0 Accuracy: 0.0\n",
            "User: 454.0 Accuracy: 0.0\n",
            "User: 455.0 Accuracy: 0.0\n",
            "User: 456.0 Accuracy: 0.0\n",
            "User: 457.0 Accuracy: 0.0\n",
            "User: 458.0 Accuracy: 0.0\n",
            "User: 459.0 Accuracy: 0.0\n",
            "User: 460.0 Accuracy: 0.0\n",
            "User: 462.0 Accuracy: 0.0\n"
          ],
          "name": "stdout"
        }
      ]
    },
    {
      "cell_type": "code",
      "metadata": {
        "id": "-2AWsN8voTNn",
        "colab_type": "code",
        "colab": {
          "base_uri": "https://localhost:8080/",
          "height": 34
        },
        "outputId": "5e93a431-16cd-4da4-ba48-a44016cb054a"
      },
      "source": [
        "correct/Double(count)"
      ],
      "execution_count": 71,
      "outputs": [
        {
          "output_type": "execute_result",
          "data": {
            "text/plain": [
              "0.3074599116895189\n"
            ]
          },
          "metadata": {
            "tags": []
          },
          "execution_count": 71
        }
      ]
    },
    {
      "cell_type": "code",
      "metadata": {
        "id": "ntGWBbuToah_",
        "colab_type": "code",
        "colab": {}
      },
      "source": [
        ""
      ],
      "execution_count": 0,
      "outputs": []
    },
    {
      "cell_type": "code",
      "metadata": {
        "id": "MHdXVlpwnaJf",
        "colab_type": "code",
        "colab": {}
      },
      "source": [
        ""
      ],
      "execution_count": 0,
      "outputs": []
    },
    {
      "cell_type": "code",
      "metadata": {
        "id": "YjL9LX3Zp2zF",
        "colab_type": "code",
        "colab": {}
      },
      "source": [
        ""
      ],
      "execution_count": 0,
      "outputs": []
    },
    {
      "cell_type": "code",
      "metadata": {
        "id": "DeP7Rds9oVo0",
        "colab_type": "code",
        "colab": {}
      },
      "source": [
        ""
      ],
      "execution_count": 0,
      "outputs": []
    }
  ]
}