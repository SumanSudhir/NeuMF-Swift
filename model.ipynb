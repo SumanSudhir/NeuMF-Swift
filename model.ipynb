{
  "nbformat": 4,
  "nbformat_minor": 0,
  "metadata": {
    "kernelspec": {
      "display_name": "Swift",
      "language": "swift",
      "name": "swift"
    },
    "language_info": {
      "file_extension": ".swift",
      "mimetype": "text/x-swift",
      "name": "swift",
      "version": ""
    },
    "colab": {
      "name": "NeuMF.ipynb",
      "provenance": [],
      "collapsed_sections": [],
      "toc_visible": true
    },
    "accelerator": "GPU"
  },
  "cells": [
    {
      "cell_type": "code",
      "metadata": {
        "scrolled": true,
        "id": "R991ArJXFw5u",
        "colab_type": "code",
        "outputId": "0654154c-9e84-42ff-89b8-d3a9d270ffe3",
        "colab": {
          "base_uri": "https://localhost:8080/",
          "height": 187
        }
      },
      "source": [
        "%install-location $cwd/swift-install\n",
        "%install-swiftpm-flags -c release\n",
        "%install '.package(url: \"https://github.com/tensorflow/swift-models\", .branch(\"master\"))' Batcher ModelSupport Datasets"
      ],
      "execution_count": 1,
      "outputs": [
        {
          "output_type": "stream",
          "text": [
            "Installing packages:\n",
            "\t.package(url: \"https://github.com/tensorflow/swift-models\", .branch(\"master\"))\n",
            "\t\tBatcher\n",
            "\t\tModelSupport\n",
            "\t\tDatasets\n",
            "With SwiftPM flags: ['-c', 'release']\n",
            "Working in: /tmp/tmp2cddk25u/swift-install\n",
            "[1/2] Compiling jupyterInstalledPackages jupyterInstalledPackages.swift\n",
            "Initializing Swift...\n",
            "Installation complete!\n"
          ],
          "name": "stdout"
        }
      ]
    },
    {
      "cell_type": "code",
      "metadata": {
        "id": "_rqTLejOFw53",
        "colab_type": "code",
        "colab": {}
      },
      "source": [
        "import Foundation\n",
        "import TensorFlow\n",
        "import Datasets"
      ],
      "execution_count": 0,
      "outputs": []
    },
    {
      "cell_type": "markdown",
      "metadata": {
        "id": "Sn30NKEqFw59",
        "colab_type": "text"
      },
      "source": [
        "# Dataset"
      ]
    },
    {
      "cell_type": "code",
      "metadata": {
        "id": "Q015NEQ0Fw5-",
        "colab_type": "code",
        "colab": {}
      },
      "source": [
        "extension Sequence where Element : Collection {\n",
        "    subscript(column column : Element.Index) -> [ Element.Iterator.Element ] {\n",
        "        return map { $0[ column ] }\n",
        "    }\n",
        "}\n",
        "extension Sequence where Iterator.Element: Hashable {\n",
        "    func unique() -> [Iterator.Element] {\n",
        "        var seen: Set<Iterator.Element> = []\n",
        "        return filter { seen.insert($0).inserted }\n",
        "    }\n",
        "}"
      ],
      "execution_count": 0,
      "outputs": []
    },
    {
      "cell_type": "code",
      "metadata": {
        "id": "4_rGnCLFtnQJ",
        "colab_type": "code",
        "outputId": "35a2e158-0567-4808-c398-6cefd6077368",
        "colab": {
          "base_uri": "https://localhost:8080/",
          "height": 54
        }
      },
      "source": [
        "print(_ExecutionContext.global.deviceNames)"
      ],
      "execution_count": 4,
      "outputs": [
        {
          "output_type": "stream",
          "text": [
            "[\"/job:localhost/replica:0/task:0/device:CPU:0\", \"/job:localhost/replica:0/task:0/device:XLA_CPU:0\", \"/job:localhost/replica:0/task:0/device:GPU:0\", \"/job:localhost/replica:0/task:0/device:XLA_GPU:0\"]\r\n"
          ],
          "name": "stdout"
        }
      ]
    },
    {
      "cell_type": "code",
      "metadata": {
        "id": "TsfEn1fCe-2d",
        "colab_type": "code",
        "colab": {}
      },
      "source": [
        "public struct MovieLens {\n",
        "\n",
        "    public let users: [Float]\n",
        "    public let items: [Float]\n",
        "    public let num_users: Int\n",
        "    public let num_items: Int\n",
        "    public let user_item_rating: [TensorPair<Int32,Float>]\n",
        "    public let rating: [Float]\n",
        "    public let user2id: [Float:Int]\n",
        "    public let id2user: [Int:Float]\n",
        "    public let item2id: [Float:Int]\n",
        "    public let id2item: [Int:Float]\n",
        "    public let neg_sampling: Tensor<Float>\n",
        "\n",
        "    static func downloadMovieLensDatasetIfNotPresent() -> String{\n",
        "        let localURL = URL(fileURLWithPath: FileManager.default.currentDirectoryPath)\n",
        "        let dataFolder = DatasetUtilities.downloadResource(\n",
        "            filename: \"ml-100k\",\n",
        "            fileExtension: \"zip\",\n",
        "            remoteRoot: URL(string: \"http://files.grouplens.org/datasets/movielens/\")!,\n",
        "            localStorageDirectory: localURL.appendingPathComponent(\"data/\", isDirectory: true))\n",
        "\n",
        "        return try! String(contentsOf: dataFolder.appendingPathComponent(\"u1.base\"), encoding: .utf8)}\n",
        "\n",
        "    public init() {\n",
        "        let dataFiles  = MovieLens.downloadMovieLensDatasetIfNotPresent()\n",
        "        let data: [[Float]] = dataFiles.split(separator: \"\\n\").map{ String($0).split(separator: \"\\t\").compactMap{ Float(String($0)) } }\n",
        "\n",
        "        // let data = datad[0...5000]\n",
        "        let users = data[column: 0].unique()\n",
        "        let items = data[column: 1].unique()\n",
        "        let rating = data[column: 2]\n",
        "\n",
        "        let user_index = 0...users.count-1\n",
        "        let user2id = Dictionary(uniqueKeysWithValues: zip(users,user_index))\n",
        "        let id2user = Dictionary(uniqueKeysWithValues: zip(user_index,users))\n",
        "\n",
        "        let item_index = 0...items.count-1\n",
        "        let item2id = Dictionary(uniqueKeysWithValues: zip(items,item_index))\n",
        "        let id2item = Dictionary(uniqueKeysWithValues: zip(item_index,items))\n",
        "\n",
        "        var neg_sampling = Tensor<Float>(zeros: [users.count,items.count])\n",
        "\n",
        "        var dataset:[TensorPair<Int32,Float>] = []\n",
        "\n",
        "        for element in data{\n",
        "            let u_index = user2id[element[0]]!\n",
        "            let i_index = item2id[element[1]]!\n",
        "            let rating = element[2]\n",
        "            if (rating > 0){\n",
        "              neg_sampling[u_index][i_index] = Tensor(1.0)\n",
        "            }\n",
        "        }\n",
        "\n",
        "        for element in data{\n",
        "            let u_index = user2id[element[0]]!\n",
        "            let i_index = item2id[element[1]]!\n",
        "\n",
        "            let x = Tensor<Int32>([Int32(u_index), Int32(i_index)])\n",
        "            dataset.append(TensorPair<Int32, Float>(first:x, second: [1]))\n",
        "\n",
        "            for i in 0...3{\n",
        "              var i_index = Int.random(in:item_index)\n",
        "              while(neg_sampling[u_index][i_index].scalarized() == 1.0){\n",
        "                i_index = Int.random(in:item_index)\n",
        "              }\n",
        "              let x = Tensor<Int32>([Int32(u_index), Int32(i_index)])\n",
        "              dataset.append(TensorPair<Int32, Float>(first: x, second: [0]))\n",
        "            }\n",
        "        }\n",
        "\n",
        "        self.num_users = users.count\n",
        "        self.num_items = items.count\n",
        "        self.users = users\n",
        "        self.items = items\n",
        "        self.rating = rating\n",
        "        self.user2id = user2id\n",
        "        self.id2user = id2user\n",
        "        self.item2id = item2id\n",
        "        self.id2item = id2item\n",
        "        self.user_item_rating = dataset\n",
        "        self.neg_sampling = neg_sampling\n",
        "    }\n",
        "}"
      ],
      "execution_count": 0,
      "outputs": []
    },
    {
      "cell_type": "markdown",
      "metadata": {
        "id": "o6eeeRiSFw6P",
        "colab_type": "text"
      },
      "source": [
        "# Model"
      ]
    },
    {
      "cell_type": "code",
      "metadata": {
        "id": "V2EX4Q80Fw6R",
        "colab_type": "code",
        "colab": {}
      },
      "source": [
        "public struct NeuMF: Module {\n",
        "\n",
        "    public typealias Scalar = Float\n",
        "\n",
        "    @noDerivative public let num_users: Int\n",
        "    @noDerivative public let num_items: Int\n",
        "    @noDerivative public let mf_dim: Int\n",
        "    @noDerivative public let mf_reg: Scalar\n",
        "    @noDerivative public var mlp_layer_sizes : [Int] = [64,32,16,8]\n",
        "    @noDerivative public var mlp_layer_regs: [Scalar] = [0,0,0,0]\n",
        "\n",
        "    public var mf_user_embed: Embedding<Scalar>\n",
        "    public var mf_item_embed: Embedding<Scalar>\n",
        "    public var mlp_user_embed: Embedding<Scalar>\n",
        "    public var mlp_item_embed: Embedding<Scalar>\n",
        "    public var dense1: Dense<Scalar>\n",
        "    public var dense2: Dense<Scalar>\n",
        "    public var dense3: Dense<Scalar>\n",
        "    public var final_dense: Dense<Scalar>\n",
        "\n",
        "\n",
        "    public init(\n",
        "        num_users: Int,\n",
        "        num_items: Int,\n",
        "        mf_dim: Int,\n",
        "        mf_reg: Float,\n",
        "        mlp_layer_sizes: [Int],\n",
        "        mlp_layer_regs: [Float]\n",
        "    ) {\n",
        "        self.num_users = num_users\n",
        "        self.num_items = num_items\n",
        "        self.mf_dim = mf_dim\n",
        "        self.mf_reg = mf_reg\n",
        "        self.mlp_layer_sizes = mlp_layer_sizes\n",
        "        self.mlp_layer_regs = mlp_layer_regs\n",
        "\n",
        "        // precondition(self.mlp_layer_sizes[0]%2 == 0, \"u dummy, mlp_layer_sizes[0] % 2 != 0\")\n",
        "        // precondition(self.mlp_layer_sizes.count == self.mlp_layer_regs.count, \"u dummy, layer_sizes != layer_regs!\")\n",
        "\n",
        "        //TODO: regularization\n",
        "        self.mf_user_embed = Embedding<Scalar>(vocabularySize: self.num_users, embeddingSize: self.mf_dim)\n",
        "        self.mf_item_embed = Embedding<Scalar>(vocabularySize: self.num_items, embeddingSize: self.mf_dim)\n",
        "        self.mlp_user_embed = Embedding<Scalar>(vocabularySize: self.num_users, embeddingSize: self.mlp_layer_sizes[0]/2)\n",
        "        self.mlp_item_embed = Embedding<Scalar>(vocabularySize: self.num_items, embeddingSize: self.mlp_layer_sizes[0]/2)\n",
        "\n",
        "        //TODO: Extend it for n layers by using for loop\n",
        "        //Currently only for 3 layers\n",
        "        dense1 = Dense(inputSize: self.mlp_layer_sizes[0], outputSize: self.mlp_layer_sizes[1], activation: relu)\n",
        "        dense2 = Dense(inputSize: self.mlp_layer_sizes[1], outputSize: self.mlp_layer_sizes[2], activation: relu)\n",
        "        dense3 = Dense(inputSize: self.mlp_layer_sizes[2], outputSize: self.mlp_layer_sizes[3], activation: relu)\n",
        "        final_dense = Dense(inputSize: (self.mlp_layer_sizes[3] + self.mf_dim), outputSize: 1)\n",
        "    }\n",
        "        @differentiable\n",
        "        public func callAsFunction(_ input: Tensor<Int32>) -> Tensor<Scalar>{\n",
        "            let user_indices = input.unstacked(alongAxis:1)[0]\n",
        "            let item_indices = input.unstacked(alongAxis:1)[1]\n",
        "\n",
        "            let user_embed_mlp = self.mlp_user_embed(user_indices)\n",
        "            let item_embed_mlp = self.mlp_item_embed(item_indices)\n",
        "            let user_embed_mf = self.mf_user_embed(user_indices)\n",
        "            let item_embed_mf = self.mf_item_embed(item_indices)\n",
        "\n",
        "            // let mf_vector = matmul(user_embed_mf,item_embed_mf)\n",
        "            let mf_vector = user_embed_mf*item_embed_mf\n",
        "            var mlp_vector = user_embed_mlp.concatenated(with:item_embed_mlp,alongAxis:-1)\n",
        "            //\n",
        "            // print(mlp_vector.shape)\n",
        "            mlp_vector = mlp_vector.sequenced(through: dense1, dense2, dense3)\n",
        "            let vector = mlp_vector.concatenated(with:mf_vector,alongAxis:-1)\n",
        "\n",
        "            return final_dense(vector)\n",
        "            // return mf_vector\n",
        "        }\n",
        "    // }\n",
        "}\n"
      ],
      "execution_count": 0,
      "outputs": []
    },
    {
      "cell_type": "markdown",
      "metadata": {
        "id": "3KP3-0PAFw6X",
        "colab_type": "text"
      },
      "source": [
        "# Training"
      ]
    },
    {
      "cell_type": "code",
      "metadata": {
        "id": "ghSRfq6HNWN6",
        "colab_type": "code",
        "colab": {}
      },
      "source": [
        "import Batcher"
      ],
      "execution_count": 0,
      "outputs": []
    },
    {
      "cell_type": "code",
      "metadata": {
        "id": "_xMzkm1YFw6Y",
        "colab_type": "code",
        "outputId": "0d5134e0-4693-47f3-b769-60f08fb548aa",
        "colab": {
          "base_uri": "https://localhost:8080/",
          "height": 34
        }
      },
      "source": [
        "let dataset = MovieLens()"
      ],
      "execution_count": 8,
      "outputs": [
        {
          "output_type": "stream",
          "text": [
            "Loading resource: ml-100k\r\n"
          ],
          "name": "stdout"
        }
      ]
    },
    {
      "cell_type": "code",
      "metadata": {
        "id": "inKsR0owFw6d",
        "colab_type": "code",
        "colab": {}
      },
      "source": [
        "let num_users = dataset.num_users\n",
        "let num_items = dataset.num_items"
      ],
      "execution_count": 0,
      "outputs": []
    },
    {
      "cell_type": "code",
      "metadata": {
        "id": "OmNeXE7snzWu",
        "colab_type": "code",
        "colab": {
          "base_uri": "https://localhost:8080/",
          "height": 68
        },
        "outputId": "3583c22f-5b5f-496e-bdb7-39c1889adc33"
      },
      "source": [
        "print(\"Number of datapoints\", dataset.user_item_rating.count)\n",
        "print(\"Number of users\", num_users)\n",
        "print(\"Number of items\", num_items)"
      ],
      "execution_count": 10,
      "outputs": [
        {
          "output_type": "stream",
          "text": [
            "Number of datapoints 400000\r\n",
            "Number of users 943\r\n",
            "Number of items 1650\r\n"
          ],
          "name": "stdout"
        }
      ]
    },
    {
      "cell_type": "code",
      "metadata": {
        "id": "HpOps5Kjpbr4",
        "colab_type": "code",
        "colab": {}
      },
      "source": [
        "let batcher = Batcher(on: dataset.user_item_rating, batchSize: 1024, shuffle: true)"
      ],
      "execution_count": 0,
      "outputs": []
    },
    {
      "cell_type": "code",
      "metadata": {
        "id": "MB-1IAWAFw6o",
        "colab_type": "code",
        "colab": {}
      },
      "source": [
        "var size:[Int] = [64, 32, 16, 8]\n",
        "var regs:[Float] = [0, 0, 0, 0]\n",
        "var model = NeuMF(num_users: num_users, num_items: num_items, mf_dim: 8, mf_reg: 0.0, mlp_layer_sizes: size, mlp_layer_regs: regs)"
      ],
      "execution_count": 0,
      "outputs": []
    },
    {
      "cell_type": "code",
      "metadata": {
        "id": "CNsXgzvdn4Gv",
        "colab_type": "code",
        "colab": {}
      },
      "source": [
        "let optimizer = Adam(for: model, learningRate: 0.001)"
      ],
      "execution_count": 0,
      "outputs": []
    },
    {
      "cell_type": "code",
      "metadata": {
        "id": "covkelRMFw6t",
        "colab_type": "code",
        "outputId": "4b2b787a-affa-4a7e-bf0d-d381b8ee24c7",
        "colab": {
          "base_uri": "https://localhost:8080/",
          "height": 1000
        }
      },
      "source": [
        "for epoch in 1...60{\n",
        "    var avg_loss: Float = 0.0\n",
        "    Context.local.learningPhase = .training\n",
        "    for data in batcher.sequenced(){\n",
        "            let user_id = data.first\n",
        "            let rating = data.second\n",
        "            let (loss, grad) = valueWithGradient(at: model){model -> Tensor<Float> in\n",
        "            let logits = model(user_id)\n",
        "            return sigmoidCrossEntropy(logits: logits, labels: rating)}\n",
        "\n",
        "            optimizer.update(&model, along: grad)\n",
        "            avg_loss = avg_loss + loss.scalarized()\n",
        "    }\n",
        "    print(\"Epoch: \\(epoch)\", \"Current loss: \\(avg_loss)\")\n",
        "}\n"
      ],
      "execution_count": 14,
      "outputs": [
        {
          "output_type": "stream",
          "text": [
            "Epoch: 1 Current loss: 173.22163\n",
            "Epoch: 2 Current loss: 144.26732\n",
            "Epoch: 3 Current loss: 142.3186\n",
            "Epoch: 4 Current loss: 141.08649\n",
            "Epoch: 5 Current loss: 140.19893\n",
            "Epoch: 6 Current loss: 139.49968\n",
            "Epoch: 7 Current loss: 138.74817\n",
            "Epoch: 8 Current loss: 138.0404\n",
            "Epoch: 9 Current loss: 137.13118\n",
            "Epoch: 10 Current loss: 135.83781\n",
            "Epoch: 11 Current loss: 134.2333\n",
            "Epoch: 12 Current loss: 131.41345\n",
            "Epoch: 13 Current loss: 127.53943\n",
            "Epoch: 14 Current loss: 123.29612\n",
            "Epoch: 15 Current loss: 119.51312\n",
            "Epoch: 16 Current loss: 116.1993\n",
            "Epoch: 17 Current loss: 113.30507\n",
            "Epoch: 18 Current loss: 110.635925\n",
            "Epoch: 19 Current loss: 108.21609\n",
            "Epoch: 20 Current loss: 106.15353\n",
            "Epoch: 21 Current loss: 104.150635\n",
            "Epoch: 22 Current loss: 102.30159\n",
            "Epoch: 23 Current loss: 100.48774\n",
            "Epoch: 24 Current loss: 98.76922\n",
            "Epoch: 25 Current loss: 97.07339\n",
            "Epoch: 26 Current loss: 95.74557\n",
            "Epoch: 27 Current loss: 94.33093\n",
            "Epoch: 28 Current loss: 92.942955\n",
            "Epoch: 29 Current loss: 91.69779\n",
            "Epoch: 30 Current loss: 90.27942\n",
            "Epoch: 31 Current loss: 89.12927\n",
            "Epoch: 32 Current loss: 87.83505\n",
            "Epoch: 33 Current loss: 86.72937\n",
            "Epoch: 34 Current loss: 85.65799\n",
            "Epoch: 35 Current loss: 84.53524\n",
            "Epoch: 36 Current loss: 83.572556\n",
            "Epoch: 37 Current loss: 82.75156\n",
            "Epoch: 38 Current loss: 81.7145\n",
            "Epoch: 39 Current loss: 80.75187\n",
            "Epoch: 40 Current loss: 79.963875\n",
            "Epoch: 41 Current loss: 79.03016\n",
            "Epoch: 42 Current loss: 78.29881\n",
            "Epoch: 43 Current loss: 77.3701\n",
            "Epoch: 44 Current loss: 76.74037\n",
            "Epoch: 45 Current loss: 76.05892\n",
            "Epoch: 46 Current loss: 75.10305\n",
            "Epoch: 47 Current loss: 74.43577\n",
            "Epoch: 48 Current loss: 73.95687\n",
            "Epoch: 49 Current loss: 73.07769\n",
            "Epoch: 50 Current loss: 72.36186\n",
            "Epoch: 51 Current loss: 71.67036\n",
            "Epoch: 52 Current loss: 71.091805\n",
            "Epoch: 53 Current loss: 70.42099\n",
            "Epoch: 54 Current loss: 69.92323\n",
            "Epoch: 55 Current loss: 69.48008\n",
            "Epoch: 56 Current loss: 68.759056\n",
            "Epoch: 57 Current loss: 68.22632\n",
            "Epoch: 58 Current loss: 67.49968\n",
            "Epoch: 59 Current loss: 67.14141\n",
            "Epoch: 60 Current loss: 66.49155\n"
          ],
          "name": "stdout"
        }
      ]
    },
    {
      "cell_type": "markdown",
      "metadata": {
        "id": "36LvJaN0Fw6z",
        "colab_type": "text"
      },
      "source": [
        "## Testing the result and then verifying it on Test dataset"
      ]
    },
    {
      "cell_type": "code",
      "metadata": {
        "id": "mZdkSWa3Fw67",
        "colab_type": "code",
        "outputId": "bfef0610-bd4f-42bd-83d3-778eea46244f",
        "colab": {
          "base_uri": "https://localhost:8080/",
          "height": 34
        }
      },
      "source": [
        "var item:[Int] = []\n",
        "var output:[Float] = []\n",
        "let user: Float = 150.0\n",
        "\n",
        "let user_index = dataset.user2id[user]!\n",
        "print(user_index)\n",
        "for i in 0...num_items-1{\n",
        "  if dataset.neg_sampling[user_index][i].scalarized() == 0{\n",
        "    var input =  Tensor<Int32>(shape: [1, 2],scalars: [Int32(user_index),Int32(i)])\n",
        "    output.append(model(input).scalarized())\n",
        "    item.append(i)\n",
        "  }\n",
        "}"
      ],
      "execution_count": 227,
      "outputs": [
        {
          "output_type": "stream",
          "text": [
            "149\r\n"
          ],
          "name": "stdout"
        }
      ]
    },
    {
      "cell_type": "code",
      "metadata": {
        "id": "o0edz5yzFESV",
        "colab_type": "code",
        "colab": {}
      },
      "source": [
        "var item_score = Dictionary(uniqueKeysWithValues: zip(item,output))"
      ],
      "execution_count": 0,
      "outputs": []
    },
    {
      "cell_type": "code",
      "metadata": {
        "id": "YMqHpstGGjrb",
        "colab_type": "code",
        "colab": {}
      },
      "source": [
        "let sortedByValueDictionary = item_score.sorted { $0.1 > $1.1 }"
      ],
      "execution_count": 0,
      "outputs": []
    },
    {
      "cell_type": "code",
      "metadata": {
        "id": "q55or_g8MN0V",
        "colab_type": "code",
        "colab": {}
      },
      "source": [
        "let first10 = sortedByValueDictionary.prefix(10)"
      ],
      "execution_count": 0,
      "outputs": []
    },
    {
      "cell_type": "code",
      "metadata": {
        "id": "HUwx9qLHNkp8",
        "colab_type": "code",
        "colab": {
          "base_uri": "https://localhost:8080/",
          "height": 187
        },
        "outputId": "6bea75c4-60fc-4acb-cc87-392a22cc50ad"
      },
      "source": [
        "for (key,_) in first10{\n",
        "  // print(key)\n",
        "  print(dataset.id2item[key]!)\n",
        "}"
      ],
      "execution_count": 231,
      "outputs": [
        {
          "output_type": "stream",
          "text": [
            "50.0\r\n",
            "98.0\r\n",
            "69.0\r\n",
            "222.0\r\n",
            "117.0\r\n",
            "1.0\r\n",
            "181.0\r\n",
            "258.0\r\n",
            "7.0\r\n",
            "237.0\r\n"
          ],
          "name": "stdout"
        }
      ]
    },
    {
      "cell_type": "code",
      "metadata": {
        "id": "6n_W0IFtFw7A",
        "colab_type": "code",
        "colab": {}
      },
      "source": [
        "// let x = exp(Tensor(output))/(exp(Tensor(output)).sum())"
      ],
      "execution_count": 0,
      "outputs": []
    },
    {
      "cell_type": "code",
      "metadata": {
        "id": "RIPYmTzosdzJ",
        "colab_type": "code",
        "colab": {
          "base_uri": "https://localhost:8080/",
          "height": 34
        },
        "outputId": "1b5148e0-0a4f-4598-c935-1ff07ab277a0"
      },
      "source": [
        "// x.argmax()\n",
        "item[194]"
      ],
      "execution_count": 164,
      "outputs": [
        {
          "output_type": "execute_result",
          "data": {
            "text/plain": [
              "194\n"
            ]
          },
          "metadata": {
            "tags": []
          },
          "execution_count": 164
        }
      ]
    },
    {
      "cell_type": "code",
      "metadata": {
        "id": "-jYtdgbePrwh",
        "colab_type": "code",
        "outputId": "bab974a7-497a-4fca-8e0e-79131b7cbfd8",
        "colab": {
          "base_uri": "https://localhost:8080/",
          "height": 34
        }
      },
      "source": [
        "dataset.id2item[669]!"
      ],
      "execution_count": 173,
      "outputs": [
        {
          "output_type": "execute_result",
          "data": {
            "text/plain": [
              "845.0\n"
            ]
          },
          "metadata": {
            "tags": []
          },
          "execution_count": 173
        }
      ]
    },
    {
      "cell_type": "code",
      "metadata": {
        "id": "pzJsibwbFw7L",
        "colab_type": "code",
        "outputId": "d0ea867f-7cea-4473-b328-c5d578dbb6f9",
        "colab": {
          "base_uri": "https://localhost:8080/",
          "height": 34
        }
      },
      "source": [
        "x.argmin()"
      ],
      "execution_count": 40,
      "outputs": [
        {
          "output_type": "execute_result",
          "data": {
            "text/plain": [
              "1308\n"
            ]
          },
          "metadata": {
            "tags": []
          },
          "execution_count": 40
        }
      ]
    },
    {
      "cell_type": "code",
      "metadata": {
        "id": "gzGs4kXVNzJZ",
        "colab_type": "code",
        "colab": {}
      },
      "source": [
        "item[70]"
      ],
      "execution_count": 0,
      "outputs": []
    },
    {
      "cell_type": "code",
      "metadata": {
        "id": "TyXmSgmJOrsK",
        "colab_type": "code",
        "outputId": "1a72125d-bb39-4d19-8e82-e6cb67cb8893",
        "colab": {
          "base_uri": "https://localhost:8080/",
          "height": 34
        }
      },
      "source": [
        ""
      ],
      "execution_count": 162,
      "outputs": [
        {
          "output_type": "execute_result",
          "data": {
            "text/plain": [
              "0\n"
            ]
          },
          "metadata": {
            "tags": []
          },
          "execution_count": 162
        }
      ]
    }
  ]
}