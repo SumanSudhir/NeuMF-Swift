{
 "cells": [
  {
   "cell_type": "code",
   "execution_count": 1,
   "metadata": {},
   "outputs": [
    {
     "name": "stdout",
     "output_type": "stream",
     "text": [
      "Installing packages:\n",
      "\t.package(url: \"https://github.com/tensorflow/swift-models\", .branch(\"master\"))\n",
      "\t\tBatcher\n",
      "\t\tModelSupport\n",
      "\t\tDatasets\n",
      "With SwiftPM flags: ['-c', 'release']\n",
      "Working in: /tmp/tmpsfsk3d57/swift-install\n",
      "/home/sudhirsuman/Desktop/swiftPersonal/usr/bin/swift-build: /home/sudhirsuman/anaconda3/lib/libcurl.so.4: no version information available (required by /home/sudhirsuman/Desktop/swiftPersonal/usr/lib/swift/linux/libFoundationNetworking.so)\n",
      "warning: /home/sudhirsuman/Desktop/swiftPersonal/usr/bin/swiftc: /home/sudhirsuman/anaconda3/lib/libuuid.so.1: no version information available (required by /home/sudhirsuman/Desktop/swiftPersonal/usr/bin/swiftc)\n",
      "/home/sudhirsuman/Desktop/swiftPersonal/usr/bin/swift: /home/sudhirsuman/anaconda3/lib/libuuid.so.1: no version information available (required by /home/sudhirsuman/Desktop/swiftPersonal/usr/bin/swift)\n",
      "warning: /home/sudhirsuman/Desktop/swiftPersonal/usr/bin/swiftc: /home/sudhirsuman/anaconda3/lib/libuuid.so.1: no version information available (required by /home/sudhirsuman/Desktop/swiftPersonal/usr/bin/swiftc)\n",
      "/home/sudhirsuman/Desktop/swiftPersonal/usr/bin/swift: /home/sudhirsuman/anaconda3/lib/libuuid.so.1: no version information available (required by /home/sudhirsuman/Desktop/swiftPersonal/usr/bin/swift)\n",
      "warning: /home/sudhirsuman/Desktop/swiftPersonal/usr/bin/swiftc: /home/sudhirsuman/anaconda3/lib/libuuid.so.1: no version information available (required by /home/sudhirsuman/Desktop/swiftPersonal/usr/bin/swiftc)\n",
      "/home/sudhirsuman/Desktop/swiftPersonal/usr/bin/swift: /home/sudhirsuman/anaconda3/lib/libuuid.so.1: no version information available (required by /home/sudhirsuman/Desktop/swiftPersonal/usr/bin/swift)\n",
      "warning: /home/sudhirsuman/Desktop/swiftPersonal/usr/bin/swiftc: /home/sudhirsuman/anaconda3/lib/libuuid.so.1: no version information available (required by /home/sudhirsuman/Desktop/swiftPersonal/usr/bin/swiftc)\n",
      "/home/sudhirsuman/Desktop/swiftPersonal/usr/bin/swift: /home/sudhirsuman/anaconda3/lib/libuuid.so.1: no version information available (required by /home/sudhirsuman/Desktop/swiftPersonal/usr/bin/swift)\n",
      "warning: /home/sudhirsuman/Desktop/swiftPersonal/usr/bin/swiftc: /home/sudhirsuman/anaconda3/lib/libuuid.so.1: no version information available (required by /home/sudhirsuman/Desktop/swiftPersonal/usr/bin/swiftc)\n",
      "/home/sudhirsuman/Desktop/swiftPersonal/usr/bin/swift: /home/sudhirsuman/anaconda3/lib/libuuid.so.1: no version information available (required by /home/sudhirsuman/Desktop/swiftPersonal/usr/bin/swift)\n",
      "/home/sudhirsuman/Desktop/swiftPersonal/usr/bin/swiftc: /home/sudhirsuman/anaconda3/lib/libuuid.so.1: no version information available (required by /home/sudhirsuman/Desktop/swiftPersonal/usr/bin/swiftc)\n",
      "/home/sudhirsuman/Desktop/swiftPersonal/usr/bin/swiftc: /home/sudhirsuman/anaconda3/lib/libuuid.so.1: no version information available (required by /home/sudhirsuman/Desktop/swiftPersonal/usr/bin/swiftc)[1/2] Compiling jupyterInstalledPackages jupyterInstalledPackages.swift\n",
      "/home/sudhirsuman/Desktop/swiftPersonal/usr/bin/swift: /home/sudhirsuman/anaconda3/lib/libuuid.so.1: no version information available (required by /home/sudhirsuman/Desktop/swiftPersonal/usr/bin/swift)\n",
      "Initializing Swift...\n",
      "Installation complete!\n"
     ]
    }
   ],
   "source": [
    "%install-location $cwd/swift-install\n",
    "%install-swiftpm-flags -c release\n",
    "%install '.package(url: \"https://github.com/tensorflow/swift-models\", .branch(\"master\"))' Batcher ModelSupport Datasets"
   ]
  },
  {
   "cell_type": "code",
   "execution_count": 2,
   "metadata": {},
   "outputs": [],
   "source": [
    "import Foundation\n",
    "import ModelSupport\n",
    "import TensorFlow\n",
    "import Datasets"
   ]
  },
  {
   "cell_type": "code",
   "execution_count": 6,
   "metadata": {},
   "outputs": [],
   "source": [
    "extension Sequence where Element : Collection {\n",
    "    subscript(column column : Element.Index) -> [ Element.Iterator.Element ] {\n",
    "        return map { $0[ column ] }\n",
    "    }\n",
    "}\n",
    "extension Sequence where Iterator.Element: Hashable {\n",
    "    func unique() -> [Iterator.Element] {\n",
    "        var seen: Set<Iterator.Element> = []\n",
    "        return filter { seen.insert($0).inserted }\n",
    "    }\n",
    "}"
   ]
  },
  {
   "cell_type": "code",
   "execution_count": null,
   "metadata": {},
   "outputs": [],
   "source": []
  },
  {
   "cell_type": "code",
   "execution_count": 7,
   "metadata": {},
   "outputs": [],
   "source": [
    "public struct MovieLens {\n",
    "\n",
    "    public let user_pool: [Float]\n",
    "    public let item_pool: [Float]\n",
    "    public let rating: [Float]\n",
    "    public let user2id: [Float:Int]\n",
    "    public let id2user: [Int:Float]\n",
    "    public let item2id: [Float:Int]\n",
    "    public let id2item: [Int:Float]\n",
    "    public let neg_sampling: Tensor<Float>\n",
    "\n",
    "    static func downloadMovieLensDatasetIfNotPresent() -> String{\n",
    "        let localURL = URL(fileURLWithPath: FileManager.default.currentDirectoryPath)\n",
    "        let dataFolder = DatasetUtilities.downloadResource(\n",
    "            filename: \"ml-1m\",\n",
    "            fileExtension: \"zip\",\n",
    "            remoteRoot: URL(string: \"http://files.grouplens.org/datasets/movielens/\")!,\n",
    "            localStorageDirectory: localURL.appendingPathComponent(\"data/\", isDirectory: true))\n",
    "\n",
    "        return try! String(contentsOf: dataFolder.appendingPathComponent(\"ratings.dat\"), encoding: .utf8)\n",
    "    }\n",
    "\n",
    "    public init() {\n",
    "        let data  = MovieLens.downloadMovieLensDatasetIfNotPresent()\n",
    "        let df_data: [[Float]] = data.split(separator: \"\\n\").map{ String($0).split(separator: \":\").compactMap{ Float(String($0)) } }\n",
    "        \n",
    "        var df = df_data[0..<500]\n",
    "        let user_pool = df[column: 0].unique()\n",
    "        let item_pool = df[column: 1].unique()\n",
    "        let rating = df[column: 2]\n",
    "\n",
    "        let user_index = 0...user_pool.count\n",
    "        let user2id:[Float:Int] = Dictionary(uniqueKeysWithValues: zip(user_pool,user_index))\n",
    "        let id2user:[Int:Float] = Dictionary(uniqueKeysWithValues: zip(user_index,user_pool))\n",
    "\n",
    "        let item_index = 0...item_pool.count\n",
    "        let item2id:[Float:Int] = Dictionary(uniqueKeysWithValues: zip(item_pool,item_index))\n",
    "        let id2item:[Int:Float] = Dictionary(uniqueKeysWithValues: zip(item_index,item_pool))\n",
    "\n",
    "        let preprocess_rating = rating.map({ $0 > 0  ? 1 : $0 })\n",
    "        var neg_sampling = Tensor<Float>(zeros: [user_pool.count,item_pool.count])\n",
    "\n",
    "        for element in df{\n",
    "            let u_index = user2id[element[0]]!\n",
    "            let i_index = item2id[element[1]]!\n",
    "            neg_sampling[u_index][i_index] = Tensor(1.0)\n",
    "        }\n",
    "\n",
    "        self.user_pool = user_pool\n",
    "        self.item_pool = item_pool\n",
    "        self.rating = rating\n",
    "        self.user2id = user2id\n",
    "        self.id2user = id2user\n",
    "        self.item2id = item2id\n",
    "        self.id2item = id2item\n",
    "        self.neg_sampling = neg_sampling\n",
    "    }\n",
    "}"
   ]
  },
  {
   "cell_type": "code",
   "execution_count": 8,
   "metadata": {},
   "outputs": [
    {
     "name": "stdout",
     "output_type": "stream",
     "text": [
      "Loading resource: ml-1m\n"
     ]
    }
   ],
   "source": [
    "let dataset = MovieLens()"
   ]
  },
  {
   "cell_type": "code",
   "execution_count": 22,
   "metadata": {},
   "outputs": [
    {
     "data": {
      "text/plain": [
       "[[1.0, 1.0, 1.0, ..., 0.0, 0.0, 0.0],\n",
       " [1.0, 0.0, 0.0, ..., 0.0, 0.0, 0.0],\n",
       " [0.0, 0.0, 0.0, ..., 0.0, 0.0, 0.0],\n",
       " [0.0, 0.0, 0.0, ..., 0.0, 0.0, 0.0],\n",
       " [0.0, 0.0, 0.0, ..., 0.0, 0.0, 0.0],\n",
       " [0.0, 0.0, 0.0, ..., 1.0, 1.0, 1.0]]\n"
      ]
     },
     "execution_count": 22,
     "metadata": {},
     "output_type": "execute_result"
    }
   ],
   "source": [
    "dataset.neg_sampling"
   ]
  },
  {
   "cell_type": "code",
   "execution_count": null,
   "metadata": {},
   "outputs": [],
   "source": []
  },
  {
   "cell_type": "code",
   "execution_count": null,
   "metadata": {},
   "outputs": [],
   "source": []
  }
 ],
 "metadata": {
  "kernelspec": {
   "display_name": "Swift",
   "language": "swift",
   "name": "swift"
  },
  "language_info": {
   "file_extension": ".swift",
   "mimetype": "text/x-swift",
   "name": "swift",
   "version": ""
  }
 },
 "nbformat": 4,
 "nbformat_minor": 4
}
